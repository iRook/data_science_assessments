{
 "cells": [
  {
   "cell_type": "markdown",
   "id": "cf9e244c",
   "metadata": {},
   "source": [
    "---\n",
    "### Aunalytics Assessment In R // Problem Statement #1\n",
    "\n",
    "By: Cody Culver // \n",
    "Date: 3/27/2022\n",
    "\n",
    "---"
   ]
  },
  {
   "cell_type": "markdown",
   "id": "e3c79582",
   "metadata": {},
   "source": [
    "#### Problem Statement\n",
    "The prediction task is to determine whether\n",
    "a person makes over 50K a year. Explain the\n",
    "performance of the model using accuracy,\n",
    "AUROC curve and confusion matrix. Feel\n",
    "free to add any other metric you see fit."
   ]
  },
  {
   "cell_type": "markdown",
   "id": "0b8ea677",
   "metadata": {},
   "source": [
    "#### Setting up analysis environment\n",
    "setting up the R environment by loading the necessary packages and datasets."
   ]
  },
  {
   "cell_type": "code",
   "execution_count": 1,
   "id": "29ff7af9",
   "metadata": {
    "scrolled": false
   },
   "outputs": [
    {
     "name": "stderr",
     "output_type": "stream",
     "text": [
      "── \u001b[1mAttaching packages\u001b[22m ─────────────────────────────────────── tidyverse 1.3.1 ──\n",
      "\n",
      "\u001b[32m✔\u001b[39m \u001b[34mggplot2\u001b[39m 3.3.5     \u001b[32m✔\u001b[39m \u001b[34mpurrr  \u001b[39m 0.3.4\n",
      "\u001b[32m✔\u001b[39m \u001b[34mtibble \u001b[39m 3.1.6     \u001b[32m✔\u001b[39m \u001b[34mdplyr  \u001b[39m 1.0.7\n",
      "\u001b[32m✔\u001b[39m \u001b[34mtidyr  \u001b[39m 1.1.4     \u001b[32m✔\u001b[39m \u001b[34mstringr\u001b[39m 1.4.0\n",
      "\u001b[32m✔\u001b[39m \u001b[34mreadr  \u001b[39m 2.1.1     \u001b[32m✔\u001b[39m \u001b[34mforcats\u001b[39m 0.5.1\n",
      "\n",
      "── \u001b[1mConflicts\u001b[22m ────────────────────────────────────────── tidyverse_conflicts() ──\n",
      "\u001b[31m✖\u001b[39m \u001b[34mdplyr\u001b[39m::\u001b[32mfilter()\u001b[39m masks \u001b[34mstats\u001b[39m::filter()\n",
      "\u001b[31m✖\u001b[39m \u001b[34mdplyr\u001b[39m::\u001b[32mlag()\u001b[39m    masks \u001b[34mstats\u001b[39m::lag()\n",
      "\n",
      "Installing package into ‘/srv/rlibs’\n",
      "(as ‘lib’ is unspecified)\n",
      "\n",
      "Installing package into ‘/srv/rlibs’\n",
      "(as ‘lib’ is unspecified)\n",
      "\n",
      "Installing package into ‘/srv/rlibs’\n",
      "(as ‘lib’ is unspecified)\n",
      "\n",
      "Installing package into ‘/srv/rlibs’\n",
      "(as ‘lib’ is unspecified)\n",
      "\n",
      "Installing package into ‘/srv/rlibs’\n",
      "(as ‘lib’ is unspecified)\n",
      "\n",
      "Loading required package: lattice\n",
      "\n",
      "\n",
      "Attaching package: ‘caret’\n",
      "\n",
      "\n",
      "The following object is masked from ‘package:purrr’:\n",
      "\n",
      "    lift\n",
      "\n",
      "\n",
      "\n",
      "Attaching package: ‘xgboost’\n",
      "\n",
      "\n",
      "The following object is masked from ‘package:dplyr’:\n",
      "\n",
      "    slice\n",
      "\n",
      "\n",
      "randomForest 4.6-14\n",
      "\n",
      "Type rfNews() to see new features/changes/bug fixes.\n",
      "\n",
      "\n",
      "Attaching package: ‘randomForest’\n",
      "\n",
      "\n",
      "The following object is masked from ‘package:dplyr’:\n",
      "\n",
      "    combine\n",
      "\n",
      "\n",
      "The following object is masked from ‘package:ggplot2’:\n",
      "\n",
      "    margin\n",
      "\n",
      "\n",
      "Type 'citation(\"pROC\")' for a citation.\n",
      "\n",
      "\n",
      "Attaching package: ‘pROC’\n",
      "\n",
      "\n",
      "The following objects are masked from ‘package:stats’:\n",
      "\n",
      "    cov, smooth, var\n",
      "\n",
      "\n"
     ]
    }
   ],
   "source": [
    "# Importing the datasets\n",
    "training_set = read.csv('au_train.csv')\n",
    "test_set = read.csv('au_test.csv')\n",
    "\n",
    "# Common data manipulation package\n",
    "library(tidyverse)\n",
    "\n",
    "# Machine Learning algorithms\n",
    "install.packages('caret')\n",
    "install.packages('xgboost')\n",
    "install.packages('randomForest')\n",
    "install.packages('e1071')\n",
    "install.packages('pROC')\n",
    "library(caret)\n",
    "library(xgboost)\n",
    "library(randomForest)\n",
    "library(e1071)\n",
    "library(pROC)"
   ]
  },
  {
   "cell_type": "markdown",
   "id": "747203d4",
   "metadata": {},
   "source": [
    "Going through typical data investigations via overviews, null checks, metadata confirmation, trimming, and sanity checks."
   ]
  },
  {
   "cell_type": "code",
   "execution_count": 2,
   "id": "b1d27787",
   "metadata": {
    "scrolled": true
   },
   "outputs": [
    {
     "data": {
      "text/html": [
       "<table class=\"dataframe\">\n",
       "<caption>A data.frame: 6 × 15</caption>\n",
       "<thead>\n",
       "\t<tr><th></th><th scope=col>age</th><th scope=col>workclass</th><th scope=col>fnlwgt</th><th scope=col>education</th><th scope=col>education.num</th><th scope=col>marital.status</th><th scope=col>occupation</th><th scope=col>relationship</th><th scope=col>race</th><th scope=col>sex</th><th scope=col>capital.gain</th><th scope=col>capital.loss</th><th scope=col>hours.per.week</th><th scope=col>native.country</th><th scope=col>class</th></tr>\n",
       "\t<tr><th></th><th scope=col>&lt;int&gt;</th><th scope=col>&lt;chr&gt;</th><th scope=col>&lt;int&gt;</th><th scope=col>&lt;chr&gt;</th><th scope=col>&lt;int&gt;</th><th scope=col>&lt;chr&gt;</th><th scope=col>&lt;chr&gt;</th><th scope=col>&lt;chr&gt;</th><th scope=col>&lt;chr&gt;</th><th scope=col>&lt;chr&gt;</th><th scope=col>&lt;int&gt;</th><th scope=col>&lt;int&gt;</th><th scope=col>&lt;int&gt;</th><th scope=col>&lt;chr&gt;</th><th scope=col>&lt;chr&gt;</th></tr>\n",
       "</thead>\n",
       "<tbody>\n",
       "\t<tr><th scope=row>1</th><td>39</td><td><span style=white-space:pre-wrap> State-gov       </span></td><td> 77516</td><td> Bachelors</td><td>13</td><td><span style=white-space:pre-wrap> Never-married     </span></td><td><span style=white-space:pre-wrap> Adm-clerical     </span></td><td> Not-in-family</td><td> White</td><td><span style=white-space:pre-wrap> Male  </span></td><td>2174</td><td>0</td><td>40</td><td> United-States</td><td> &lt;=50K</td></tr>\n",
       "\t<tr><th scope=row>2</th><td>50</td><td> Self-emp-not-inc</td><td> 83311</td><td> Bachelors</td><td>13</td><td> Married-civ-spouse</td><td><span style=white-space:pre-wrap> Exec-managerial  </span></td><td><span style=white-space:pre-wrap> Husband      </span></td><td> White</td><td><span style=white-space:pre-wrap> Male  </span></td><td><span style=white-space:pre-wrap>   0</span></td><td>0</td><td>13</td><td> United-States</td><td> &lt;=50K</td></tr>\n",
       "\t<tr><th scope=row>3</th><td>38</td><td><span style=white-space:pre-wrap> Private         </span></td><td>215646</td><td><span style=white-space:pre-wrap> HS-grad  </span></td><td> 9</td><td><span style=white-space:pre-wrap> Divorced          </span></td><td> Handlers-cleaners</td><td> Not-in-family</td><td> White</td><td><span style=white-space:pre-wrap> Male  </span></td><td><span style=white-space:pre-wrap>   0</span></td><td>0</td><td>40</td><td> United-States</td><td> &lt;=50K</td></tr>\n",
       "\t<tr><th scope=row>4</th><td>53</td><td><span style=white-space:pre-wrap> Private         </span></td><td>234721</td><td><span style=white-space:pre-wrap> 11th     </span></td><td> 7</td><td> Married-civ-spouse</td><td> Handlers-cleaners</td><td><span style=white-space:pre-wrap> Husband      </span></td><td> Black</td><td><span style=white-space:pre-wrap> Male  </span></td><td><span style=white-space:pre-wrap>   0</span></td><td>0</td><td>40</td><td> United-States</td><td> &lt;=50K</td></tr>\n",
       "\t<tr><th scope=row>5</th><td>28</td><td><span style=white-space:pre-wrap> Private         </span></td><td>338409</td><td> Bachelors</td><td>13</td><td> Married-civ-spouse</td><td><span style=white-space:pre-wrap> Prof-specialty   </span></td><td><span style=white-space:pre-wrap> Wife         </span></td><td> Black</td><td> Female</td><td><span style=white-space:pre-wrap>   0</span></td><td>0</td><td>40</td><td><span style=white-space:pre-wrap> Cuba         </span></td><td> &lt;=50K</td></tr>\n",
       "\t<tr><th scope=row>6</th><td>37</td><td><span style=white-space:pre-wrap> Private         </span></td><td>284582</td><td><span style=white-space:pre-wrap> Masters  </span></td><td>14</td><td> Married-civ-spouse</td><td><span style=white-space:pre-wrap> Exec-managerial  </span></td><td><span style=white-space:pre-wrap> Wife         </span></td><td> White</td><td> Female</td><td><span style=white-space:pre-wrap>   0</span></td><td>0</td><td>40</td><td> United-States</td><td> &lt;=50K</td></tr>\n",
       "</tbody>\n",
       "</table>\n"
      ],
      "text/latex": [
       "A data.frame: 6 × 15\n",
       "\\begin{tabular}{r|lllllllllllllll}\n",
       "  & age & workclass & fnlwgt & education & education.num & marital.status & occupation & relationship & race & sex & capital.gain & capital.loss & hours.per.week & native.country & class\\\\\n",
       "  & <int> & <chr> & <int> & <chr> & <int> & <chr> & <chr> & <chr> & <chr> & <chr> & <int> & <int> & <int> & <chr> & <chr>\\\\\n",
       "\\hline\n",
       "\t1 & 39 &  State-gov        &  77516 &  Bachelors & 13 &  Never-married      &  Adm-clerical      &  Not-in-family &  White &  Male   & 2174 & 0 & 40 &  United-States &  <=50K\\\\\n",
       "\t2 & 50 &  Self-emp-not-inc &  83311 &  Bachelors & 13 &  Married-civ-spouse &  Exec-managerial   &  Husband       &  White &  Male   &    0 & 0 & 13 &  United-States &  <=50K\\\\\n",
       "\t3 & 38 &  Private          & 215646 &  HS-grad   &  9 &  Divorced           &  Handlers-cleaners &  Not-in-family &  White &  Male   &    0 & 0 & 40 &  United-States &  <=50K\\\\\n",
       "\t4 & 53 &  Private          & 234721 &  11th      &  7 &  Married-civ-spouse &  Handlers-cleaners &  Husband       &  Black &  Male   &    0 & 0 & 40 &  United-States &  <=50K\\\\\n",
       "\t5 & 28 &  Private          & 338409 &  Bachelors & 13 &  Married-civ-spouse &  Prof-specialty    &  Wife          &  Black &  Female &    0 & 0 & 40 &  Cuba          &  <=50K\\\\\n",
       "\t6 & 37 &  Private          & 284582 &  Masters   & 14 &  Married-civ-spouse &  Exec-managerial   &  Wife          &  White &  Female &    0 & 0 & 40 &  United-States &  <=50K\\\\\n",
       "\\end{tabular}\n"
      ],
      "text/markdown": [
       "\n",
       "A data.frame: 6 × 15\n",
       "\n",
       "| <!--/--> | age &lt;int&gt; | workclass &lt;chr&gt; | fnlwgt &lt;int&gt; | education &lt;chr&gt; | education.num &lt;int&gt; | marital.status &lt;chr&gt; | occupation &lt;chr&gt; | relationship &lt;chr&gt; | race &lt;chr&gt; | sex &lt;chr&gt; | capital.gain &lt;int&gt; | capital.loss &lt;int&gt; | hours.per.week &lt;int&gt; | native.country &lt;chr&gt; | class &lt;chr&gt; |\n",
       "|---|---|---|---|---|---|---|---|---|---|---|---|---|---|---|---|\n",
       "| 1 | 39 |  State-gov        |  77516 |  Bachelors | 13 |  Never-married      |  Adm-clerical      |  Not-in-family |  White |  Male   | 2174 | 0 | 40 |  United-States |  &lt;=50K |\n",
       "| 2 | 50 |  Self-emp-not-inc |  83311 |  Bachelors | 13 |  Married-civ-spouse |  Exec-managerial   |  Husband       |  White |  Male   |    0 | 0 | 13 |  United-States |  &lt;=50K |\n",
       "| 3 | 38 |  Private          | 215646 |  HS-grad   |  9 |  Divorced           |  Handlers-cleaners |  Not-in-family |  White |  Male   |    0 | 0 | 40 |  United-States |  &lt;=50K |\n",
       "| 4 | 53 |  Private          | 234721 |  11th      |  7 |  Married-civ-spouse |  Handlers-cleaners |  Husband       |  Black |  Male   |    0 | 0 | 40 |  United-States |  &lt;=50K |\n",
       "| 5 | 28 |  Private          | 338409 |  Bachelors | 13 |  Married-civ-spouse |  Prof-specialty    |  Wife          |  Black |  Female |    0 | 0 | 40 |  Cuba          |  &lt;=50K |\n",
       "| 6 | 37 |  Private          | 284582 |  Masters   | 14 |  Married-civ-spouse |  Exec-managerial   |  Wife          |  White |  Female |    0 | 0 | 40 |  United-States |  &lt;=50K |\n",
       "\n"
      ],
      "text/plain": [
       "  age workclass         fnlwgt education  education.num marital.status     \n",
       "1 39   State-gov         77516  Bachelors 13             Never-married     \n",
       "2 50   Self-emp-not-inc  83311  Bachelors 13             Married-civ-spouse\n",
       "3 38   Private          215646  HS-grad    9             Divorced          \n",
       "4 53   Private          234721  11th       7             Married-civ-spouse\n",
       "5 28   Private          338409  Bachelors 13             Married-civ-spouse\n",
       "6 37   Private          284582  Masters   14             Married-civ-spouse\n",
       "  occupation         relationship   race   sex     capital.gain capital.loss\n",
       "1  Adm-clerical       Not-in-family  White  Male   2174         0           \n",
       "2  Exec-managerial    Husband        White  Male      0         0           \n",
       "3  Handlers-cleaners  Not-in-family  White  Male      0         0           \n",
       "4  Handlers-cleaners  Husband        Black  Male      0         0           \n",
       "5  Prof-specialty     Wife           Black  Female    0         0           \n",
       "6  Exec-managerial    Wife           White  Female    0         0           \n",
       "  hours.per.week native.country class \n",
       "1 40              United-States  <=50K\n",
       "2 13              United-States  <=50K\n",
       "3 40              United-States  <=50K\n",
       "4 40              United-States  <=50K\n",
       "5 40              Cuba           <=50K\n",
       "6 40              United-States  <=50K"
      ]
     },
     "metadata": {},
     "output_type": "display_data"
    },
    {
     "data": {
      "text/html": [
       "0"
      ],
      "text/latex": [
       "0"
      ],
      "text/markdown": [
       "0"
      ],
      "text/plain": [
       "[1] 0"
      ]
     },
     "metadata": {},
     "output_type": "display_data"
    },
    {
     "data": {
      "text/html": [
       "0"
      ],
      "text/latex": [
       "0"
      ],
      "text/markdown": [
       "0"
      ],
      "text/plain": [
       "[1] 0"
      ]
     },
     "metadata": {},
     "output_type": "display_data"
    },
    {
     "data": {
      "text/html": [
       "<style>\n",
       ".list-inline {list-style: none; margin:0; padding: 0}\n",
       ".list-inline>li {display: inline-block}\n",
       ".list-inline>li:not(:last-child)::after {content: \"\\00b7\"; padding: 0 .5ex}\n",
       "</style>\n",
       "<ol class=list-inline><li>' ?'</li><li>' Federal-gov'</li><li>' Local-gov'</li><li>' Never-worked'</li><li>' Private'</li><li>' Self-emp-inc'</li><li>' Self-emp-not-inc'</li><li>' State-gov'</li><li>' Without-pay'</li></ol>\n"
      ],
      "text/latex": [
       "\\begin{enumerate*}\n",
       "\\item ' ?'\n",
       "\\item ' Federal-gov'\n",
       "\\item ' Local-gov'\n",
       "\\item ' Never-worked'\n",
       "\\item ' Private'\n",
       "\\item ' Self-emp-inc'\n",
       "\\item ' Self-emp-not-inc'\n",
       "\\item ' State-gov'\n",
       "\\item ' Without-pay'\n",
       "\\end{enumerate*}\n"
      ],
      "text/markdown": [
       "1. ' ?'\n",
       "2. ' Federal-gov'\n",
       "3. ' Local-gov'\n",
       "4. ' Never-worked'\n",
       "5. ' Private'\n",
       "6. ' Self-emp-inc'\n",
       "7. ' Self-emp-not-inc'\n",
       "8. ' State-gov'\n",
       "9. ' Without-pay'\n",
       "\n",
       "\n"
      ],
      "text/plain": [
       "[1] \" ?\"                \" Federal-gov\"      \" Local-gov\"       \n",
       "[4] \" Never-worked\"     \" Private\"          \" Self-emp-inc\"    \n",
       "[7] \" Self-emp-not-inc\" \" State-gov\"        \" Without-pay\"     "
      ]
     },
     "metadata": {},
     "output_type": "display_data"
    },
    {
     "data": {
      "text/html": [
       "<style>\n",
       ".list-inline {list-style: none; margin:0; padding: 0}\n",
       ".list-inline>li {display: inline-block}\n",
       ".list-inline>li:not(:last-child)::after {content: \"\\00b7\"; padding: 0 .5ex}\n",
       "</style>\n",
       "<ol class=list-inline><li>' 10th'</li><li>' 11th'</li><li>' 12th'</li><li>' 1st-4th'</li><li>' 5th-6th'</li><li>' 7th-8th'</li><li>' 9th'</li><li>' Assoc-acdm'</li><li>' Assoc-voc'</li><li>' Bachelors'</li><li>' Doctorate'</li><li>' HS-grad'</li><li>' Masters'</li><li>' Preschool'</li><li>' Prof-school'</li><li>' Some-college'</li></ol>\n"
      ],
      "text/latex": [
       "\\begin{enumerate*}\n",
       "\\item ' 10th'\n",
       "\\item ' 11th'\n",
       "\\item ' 12th'\n",
       "\\item ' 1st-4th'\n",
       "\\item ' 5th-6th'\n",
       "\\item ' 7th-8th'\n",
       "\\item ' 9th'\n",
       "\\item ' Assoc-acdm'\n",
       "\\item ' Assoc-voc'\n",
       "\\item ' Bachelors'\n",
       "\\item ' Doctorate'\n",
       "\\item ' HS-grad'\n",
       "\\item ' Masters'\n",
       "\\item ' Preschool'\n",
       "\\item ' Prof-school'\n",
       "\\item ' Some-college'\n",
       "\\end{enumerate*}\n"
      ],
      "text/markdown": [
       "1. ' 10th'\n",
       "2. ' 11th'\n",
       "3. ' 12th'\n",
       "4. ' 1st-4th'\n",
       "5. ' 5th-6th'\n",
       "6. ' 7th-8th'\n",
       "7. ' 9th'\n",
       "8. ' Assoc-acdm'\n",
       "9. ' Assoc-voc'\n",
       "10. ' Bachelors'\n",
       "11. ' Doctorate'\n",
       "12. ' HS-grad'\n",
       "13. ' Masters'\n",
       "14. ' Preschool'\n",
       "15. ' Prof-school'\n",
       "16. ' Some-college'\n",
       "\n",
       "\n"
      ],
      "text/plain": [
       " [1] \" 10th\"         \" 11th\"         \" 12th\"         \" 1st-4th\"     \n",
       " [5] \" 5th-6th\"      \" 7th-8th\"      \" 9th\"          \" Assoc-acdm\"  \n",
       " [9] \" Assoc-voc\"    \" Bachelors\"    \" Doctorate\"    \" HS-grad\"     \n",
       "[13] \" Masters\"      \" Preschool\"    \" Prof-school\"  \" Some-college\""
      ]
     },
     "metadata": {},
     "output_type": "display_data"
    },
    {
     "data": {
      "text/html": [
       "<style>\n",
       ".list-inline {list-style: none; margin:0; padding: 0}\n",
       ".list-inline>li {display: inline-block}\n",
       ".list-inline>li:not(:last-child)::after {content: \"\\00b7\"; padding: 0 .5ex}\n",
       "</style>\n",
       "<ol class=list-inline><li>' Divorced'</li><li>' Married-AF-spouse'</li><li>' Married-civ-spouse'</li><li>' Married-spouse-absent'</li><li>' Never-married'</li><li>' Separated'</li><li>' Widowed'</li></ol>\n"
      ],
      "text/latex": [
       "\\begin{enumerate*}\n",
       "\\item ' Divorced'\n",
       "\\item ' Married-AF-spouse'\n",
       "\\item ' Married-civ-spouse'\n",
       "\\item ' Married-spouse-absent'\n",
       "\\item ' Never-married'\n",
       "\\item ' Separated'\n",
       "\\item ' Widowed'\n",
       "\\end{enumerate*}\n"
      ],
      "text/markdown": [
       "1. ' Divorced'\n",
       "2. ' Married-AF-spouse'\n",
       "3. ' Married-civ-spouse'\n",
       "4. ' Married-spouse-absent'\n",
       "5. ' Never-married'\n",
       "6. ' Separated'\n",
       "7. ' Widowed'\n",
       "\n",
       "\n"
      ],
      "text/plain": [
       "[1] \" Divorced\"              \" Married-AF-spouse\"     \" Married-civ-spouse\"   \n",
       "[4] \" Married-spouse-absent\" \" Never-married\"         \" Separated\"            \n",
       "[7] \" Widowed\"              "
      ]
     },
     "metadata": {},
     "output_type": "display_data"
    },
    {
     "data": {
      "text/html": [
       "<style>\n",
       ".list-inline {list-style: none; margin:0; padding: 0}\n",
       ".list-inline>li {display: inline-block}\n",
       ".list-inline>li:not(:last-child)::after {content: \"\\00b7\"; padding: 0 .5ex}\n",
       "</style>\n",
       "<ol class=list-inline><li>' ?'</li><li>' Adm-clerical'</li><li>' Armed-Forces'</li><li>' Craft-repair'</li><li>' Exec-managerial'</li><li>' Farming-fishing'</li><li>' Handlers-cleaners'</li><li>' Machine-op-inspct'</li><li>' Other-service'</li><li>' Priv-house-serv'</li><li>' Prof-specialty'</li><li>' Protective-serv'</li><li>' Sales'</li><li>' Tech-support'</li><li>' Transport-moving'</li></ol>\n"
      ],
      "text/latex": [
       "\\begin{enumerate*}\n",
       "\\item ' ?'\n",
       "\\item ' Adm-clerical'\n",
       "\\item ' Armed-Forces'\n",
       "\\item ' Craft-repair'\n",
       "\\item ' Exec-managerial'\n",
       "\\item ' Farming-fishing'\n",
       "\\item ' Handlers-cleaners'\n",
       "\\item ' Machine-op-inspct'\n",
       "\\item ' Other-service'\n",
       "\\item ' Priv-house-serv'\n",
       "\\item ' Prof-specialty'\n",
       "\\item ' Protective-serv'\n",
       "\\item ' Sales'\n",
       "\\item ' Tech-support'\n",
       "\\item ' Transport-moving'\n",
       "\\end{enumerate*}\n"
      ],
      "text/markdown": [
       "1. ' ?'\n",
       "2. ' Adm-clerical'\n",
       "3. ' Armed-Forces'\n",
       "4. ' Craft-repair'\n",
       "5. ' Exec-managerial'\n",
       "6. ' Farming-fishing'\n",
       "7. ' Handlers-cleaners'\n",
       "8. ' Machine-op-inspct'\n",
       "9. ' Other-service'\n",
       "10. ' Priv-house-serv'\n",
       "11. ' Prof-specialty'\n",
       "12. ' Protective-serv'\n",
       "13. ' Sales'\n",
       "14. ' Tech-support'\n",
       "15. ' Transport-moving'\n",
       "\n",
       "\n"
      ],
      "text/plain": [
       " [1] \" ?\"                 \" Adm-clerical\"      \" Armed-Forces\"     \n",
       " [4] \" Craft-repair\"      \" Exec-managerial\"   \" Farming-fishing\"  \n",
       " [7] \" Handlers-cleaners\" \" Machine-op-inspct\" \" Other-service\"    \n",
       "[10] \" Priv-house-serv\"   \" Prof-specialty\"    \" Protective-serv\"  \n",
       "[13] \" Sales\"             \" Tech-support\"      \" Transport-moving\" "
      ]
     },
     "metadata": {},
     "output_type": "display_data"
    },
    {
     "data": {
      "text/html": [
       "<style>\n",
       ".list-inline {list-style: none; margin:0; padding: 0}\n",
       ".list-inline>li {display: inline-block}\n",
       ".list-inline>li:not(:last-child)::after {content: \"\\00b7\"; padding: 0 .5ex}\n",
       "</style>\n",
       "<ol class=list-inline><li>' Husband'</li><li>' Not-in-family'</li><li>' Other-relative'</li><li>' Own-child'</li><li>' Unmarried'</li><li>' Wife'</li></ol>\n"
      ],
      "text/latex": [
       "\\begin{enumerate*}\n",
       "\\item ' Husband'\n",
       "\\item ' Not-in-family'\n",
       "\\item ' Other-relative'\n",
       "\\item ' Own-child'\n",
       "\\item ' Unmarried'\n",
       "\\item ' Wife'\n",
       "\\end{enumerate*}\n"
      ],
      "text/markdown": [
       "1. ' Husband'\n",
       "2. ' Not-in-family'\n",
       "3. ' Other-relative'\n",
       "4. ' Own-child'\n",
       "5. ' Unmarried'\n",
       "6. ' Wife'\n",
       "\n",
       "\n"
      ],
      "text/plain": [
       "[1] \" Husband\"        \" Not-in-family\"  \" Other-relative\" \" Own-child\"     \n",
       "[5] \" Unmarried\"      \" Wife\"          "
      ]
     },
     "metadata": {},
     "output_type": "display_data"
    },
    {
     "data": {
      "text/html": [
       "<style>\n",
       ".list-inline {list-style: none; margin:0; padding: 0}\n",
       ".list-inline>li {display: inline-block}\n",
       ".list-inline>li:not(:last-child)::after {content: \"\\00b7\"; padding: 0 .5ex}\n",
       "</style>\n",
       "<ol class=list-inline><li>' Amer-Indian-Eskimo'</li><li>' Asian-Pac-Islander'</li><li>' Black'</li><li>' Other'</li><li>' White'</li></ol>\n"
      ],
      "text/latex": [
       "\\begin{enumerate*}\n",
       "\\item ' Amer-Indian-Eskimo'\n",
       "\\item ' Asian-Pac-Islander'\n",
       "\\item ' Black'\n",
       "\\item ' Other'\n",
       "\\item ' White'\n",
       "\\end{enumerate*}\n"
      ],
      "text/markdown": [
       "1. ' Amer-Indian-Eskimo'\n",
       "2. ' Asian-Pac-Islander'\n",
       "3. ' Black'\n",
       "4. ' Other'\n",
       "5. ' White'\n",
       "\n",
       "\n"
      ],
      "text/plain": [
       "[1] \" Amer-Indian-Eskimo\" \" Asian-Pac-Islander\" \" Black\"             \n",
       "[4] \" Other\"              \" White\"             "
      ]
     },
     "metadata": {},
     "output_type": "display_data"
    },
    {
     "data": {
      "text/html": [
       "<style>\n",
       ".list-inline {list-style: none; margin:0; padding: 0}\n",
       ".list-inline>li {display: inline-block}\n",
       ".list-inline>li:not(:last-child)::after {content: \"\\00b7\"; padding: 0 .5ex}\n",
       "</style>\n",
       "<ol class=list-inline><li>' Female'</li><li>' Male'</li></ol>\n"
      ],
      "text/latex": [
       "\\begin{enumerate*}\n",
       "\\item ' Female'\n",
       "\\item ' Male'\n",
       "\\end{enumerate*}\n"
      ],
      "text/markdown": [
       "1. ' Female'\n",
       "2. ' Male'\n",
       "\n",
       "\n"
      ],
      "text/plain": [
       "[1] \" Female\" \" Male\"  "
      ]
     },
     "metadata": {},
     "output_type": "display_data"
    },
    {
     "data": {
      "text/html": [
       "<style>\n",
       ".list-inline {list-style: none; margin:0; padding: 0}\n",
       ".list-inline>li {display: inline-block}\n",
       ".list-inline>li:not(:last-child)::after {content: \"\\00b7\"; padding: 0 .5ex}\n",
       "</style>\n",
       "<ol class=list-inline><li>' ?'</li><li>' Cambodia'</li><li>' Canada'</li><li>' China'</li><li>' Columbia'</li><li>' Cuba'</li><li>' Dominican-Republic'</li><li>' Ecuador'</li><li>' El-Salvador'</li><li>' England'</li><li>' France'</li><li>' Germany'</li><li>' Greece'</li><li>' Guatemala'</li><li>' Haiti'</li><li>' Holand-Netherlands'</li><li>' Honduras'</li><li>' Hong'</li><li>' Hungary'</li><li>' India'</li><li>' Iran'</li><li>' Ireland'</li><li>' Italy'</li><li>' Jamaica'</li><li>' Japan'</li><li>' Laos'</li><li>' Mexico'</li><li>' Nicaragua'</li><li>' Outlying-US(Guam-USVI-etc)'</li><li>' Peru'</li><li>' Philippines'</li><li>' Poland'</li><li>' Portugal'</li><li>' Puerto-Rico'</li><li>' Scotland'</li><li>' South'</li><li>' Taiwan'</li><li>' Thailand'</li><li>' Trinadad&amp;Tobago'</li><li>' United-States'</li><li>' Vietnam'</li><li>' Yugoslavia'</li></ol>\n"
      ],
      "text/latex": [
       "\\begin{enumerate*}\n",
       "\\item ' ?'\n",
       "\\item ' Cambodia'\n",
       "\\item ' Canada'\n",
       "\\item ' China'\n",
       "\\item ' Columbia'\n",
       "\\item ' Cuba'\n",
       "\\item ' Dominican-Republic'\n",
       "\\item ' Ecuador'\n",
       "\\item ' El-Salvador'\n",
       "\\item ' England'\n",
       "\\item ' France'\n",
       "\\item ' Germany'\n",
       "\\item ' Greece'\n",
       "\\item ' Guatemala'\n",
       "\\item ' Haiti'\n",
       "\\item ' Holand-Netherlands'\n",
       "\\item ' Honduras'\n",
       "\\item ' Hong'\n",
       "\\item ' Hungary'\n",
       "\\item ' India'\n",
       "\\item ' Iran'\n",
       "\\item ' Ireland'\n",
       "\\item ' Italy'\n",
       "\\item ' Jamaica'\n",
       "\\item ' Japan'\n",
       "\\item ' Laos'\n",
       "\\item ' Mexico'\n",
       "\\item ' Nicaragua'\n",
       "\\item ' Outlying-US(Guam-USVI-etc)'\n",
       "\\item ' Peru'\n",
       "\\item ' Philippines'\n",
       "\\item ' Poland'\n",
       "\\item ' Portugal'\n",
       "\\item ' Puerto-Rico'\n",
       "\\item ' Scotland'\n",
       "\\item ' South'\n",
       "\\item ' Taiwan'\n",
       "\\item ' Thailand'\n",
       "\\item ' Trinadad\\&Tobago'\n",
       "\\item ' United-States'\n",
       "\\item ' Vietnam'\n",
       "\\item ' Yugoslavia'\n",
       "\\end{enumerate*}\n"
      ],
      "text/markdown": [
       "1. ' ?'\n",
       "2. ' Cambodia'\n",
       "3. ' Canada'\n",
       "4. ' China'\n",
       "5. ' Columbia'\n",
       "6. ' Cuba'\n",
       "7. ' Dominican-Republic'\n",
       "8. ' Ecuador'\n",
       "9. ' El-Salvador'\n",
       "10. ' England'\n",
       "11. ' France'\n",
       "12. ' Germany'\n",
       "13. ' Greece'\n",
       "14. ' Guatemala'\n",
       "15. ' Haiti'\n",
       "16. ' Holand-Netherlands'\n",
       "17. ' Honduras'\n",
       "18. ' Hong'\n",
       "19. ' Hungary'\n",
       "20. ' India'\n",
       "21. ' Iran'\n",
       "22. ' Ireland'\n",
       "23. ' Italy'\n",
       "24. ' Jamaica'\n",
       "25. ' Japan'\n",
       "26. ' Laos'\n",
       "27. ' Mexico'\n",
       "28. ' Nicaragua'\n",
       "29. ' Outlying-US(Guam-USVI-etc)'\n",
       "30. ' Peru'\n",
       "31. ' Philippines'\n",
       "32. ' Poland'\n",
       "33. ' Portugal'\n",
       "34. ' Puerto-Rico'\n",
       "35. ' Scotland'\n",
       "36. ' South'\n",
       "37. ' Taiwan'\n",
       "38. ' Thailand'\n",
       "39. ' Trinadad&amp;Tobago'\n",
       "40. ' United-States'\n",
       "41. ' Vietnam'\n",
       "42. ' Yugoslavia'\n",
       "\n",
       "\n"
      ],
      "text/plain": [
       " [1] \" ?\"                          \" Cambodia\"                  \n",
       " [3] \" Canada\"                     \" China\"                     \n",
       " [5] \" Columbia\"                   \" Cuba\"                      \n",
       " [7] \" Dominican-Republic\"         \" Ecuador\"                   \n",
       " [9] \" El-Salvador\"                \" England\"                   \n",
       "[11] \" France\"                     \" Germany\"                   \n",
       "[13] \" Greece\"                     \" Guatemala\"                 \n",
       "[15] \" Haiti\"                      \" Holand-Netherlands\"        \n",
       "[17] \" Honduras\"                   \" Hong\"                      \n",
       "[19] \" Hungary\"                    \" India\"                     \n",
       "[21] \" Iran\"                       \" Ireland\"                   \n",
       "[23] \" Italy\"                      \" Jamaica\"                   \n",
       "[25] \" Japan\"                      \" Laos\"                      \n",
       "[27] \" Mexico\"                     \" Nicaragua\"                 \n",
       "[29] \" Outlying-US(Guam-USVI-etc)\" \" Peru\"                      \n",
       "[31] \" Philippines\"                \" Poland\"                    \n",
       "[33] \" Portugal\"                   \" Puerto-Rico\"               \n",
       "[35] \" Scotland\"                   \" South\"                     \n",
       "[37] \" Taiwan\"                     \" Thailand\"                  \n",
       "[39] \" Trinadad&Tobago\"            \" United-States\"             \n",
       "[41] \" Vietnam\"                    \" Yugoslavia\"                "
      ]
     },
     "metadata": {},
     "output_type": "display_data"
    },
    {
     "data": {
      "text/html": [
       "<style>\n",
       ".list-inline {list-style: none; margin:0; padding: 0}\n",
       ".list-inline>li {display: inline-block}\n",
       ".list-inline>li:not(:last-child)::after {content: \"\\00b7\"; padding: 0 .5ex}\n",
       "</style>\n",
       "<ol class=list-inline><li>' &lt;=50K'</li><li>' &gt;50K'</li></ol>\n"
      ],
      "text/latex": [
       "\\begin{enumerate*}\n",
       "\\item ' <=50K'\n",
       "\\item ' >50K'\n",
       "\\end{enumerate*}\n"
      ],
      "text/markdown": [
       "1. ' &lt;=50K'\n",
       "2. ' &gt;50K'\n",
       "\n",
       "\n"
      ],
      "text/plain": [
       "[1] \" <=50K\" \" >50K\" "
      ]
     },
     "metadata": {},
     "output_type": "display_data"
    },
    {
     "data": {
      "text/html": [
       "16"
      ],
      "text/latex": [
       "16"
      ],
      "text/markdown": [
       "16"
      ],
      "text/plain": [
       "[1] 16"
      ]
     },
     "metadata": {},
     "output_type": "display_data"
    },
    {
     "data": {
      "text/html": [
       "16"
      ],
      "text/latex": [
       "16"
      ],
      "text/markdown": [
       "16"
      ],
      "text/plain": [
       "[1] 16"
      ]
     },
     "metadata": {},
     "output_type": "display_data"
    },
    {
     "data": {
      "text/plain": [
       "   Length     Class      Mode \n",
       "    32561 character character "
      ]
     },
     "metadata": {},
     "output_type": "display_data"
    }
   ],
   "source": [
    "# 6 row overview of data set\n",
    "head(training_set)\n",
    "\n",
    "#checking for null values\n",
    "sum(is.na(training_set))  #0 null values\n",
    "sum(is.na(test_set))      #0 null values\n",
    "\n",
    "# Checking for a list of unique values in categorical data to compare with metadata provided\n",
    "# Will also report back \"NULL\" if there is an issue with a variable name\n",
    "sort(unique(training_set$workclass))\n",
    "sort(unique(training_set$education))\n",
    "sort(unique(training_set$marital.status))\n",
    "sort(unique(training_set$occupation))       # has an additional \"?\" variable type\n",
    "sort(unique(training_set$relationship))\n",
    "sort(unique(training_set$race))\n",
    "sort(unique(training_set$sex))\n",
    "sort(unique(training_set$native.country))   # has an additional \"?\" variable type\n",
    "sort(unique(training_set$class))\n",
    "\n",
    "# All data contains a white space as the first character in each variable. Trimming all white space to prevent errors:\n",
    "# Need to use gsub function because white space is non ASCII type, and simple str_trim will not work.\n",
    "training_set <- as.data.frame(apply(training_set, 2, function(training_set) gsub('\\\\s+','', training_set)))\n",
    "test_set <- as.data.frame(apply(test_set, 2, function(test_set) gsub('\\\\s+','', test_set)))\n",
    "\n",
    "# It was also discovered that the test_set includes an extra character on the dependent variable 'class', which must be removed\n",
    "test_set <- as.data.frame(apply(test_set, 2, function(test_set) gsub('[.]','', test_set)))\n",
    "\n",
    "# Checking that 'education.num' has the same amount of categories as 'education', and that the min to max values are methodical\n",
    "n_distinct(training_set$education.num)  #16 distinct values\n",
    "n_distinct(training_set$education)      #16 distinct values\n",
    "summary(training_set$education.num)     #max numerical value of 16\n",
    "\n",
    "# It looks like education has been factored appropriately for R based data science, so we can remove the education column\n",
    "training_set <- subset(training_set, select = -education)\n",
    "test_set <- subset(test_set, select = -education)\n",
    "\n",
    "\n",
    "# The independent variables 'capital.gain' and 'capital.loss' seem to be mostly '0' values. Let's check the percentage of non zeros\n",
    "capital.gain_occurrence = n_distinct(training_set$capital.gain) / nrow(training_set) * 100\n",
    "capital.loss_occurrence = n_distinct(training_set$capital.loss) / nrow(training_set) * 100\n",
    "# Both values are below 0.4%. I assume anything 0.5-1% to be unhelpful in learning, and would consider removing these variables, \n",
    "# but for the case of this assessment, I will perform models with and without\n",
    "\n",
    "# Checking percentage of '?' occurrences. If less than 1%, may consider removing.\n",
    "# first step is to count occurrences.\n",
    "occ_count <- training_set %>% \n",
    "  count(occupation == '?') %>% \n",
    "  rename(exists = 'occupation == \"?\"')\n",
    "occ_count_int = occ_count$n[occ_count$exists == 'TRUE']\n",
    "\n",
    "n.c_count <- training_set %>% \n",
    "  count(native.country == '?') %>% \n",
    "  rename(exists = 'native.country == \"?\"')\n",
    "n.c_count_int = n.c_count$n[n.c_count$exists == 'TRUE']\n",
    "\n",
    "# Calculating percentage of occurrences.\n",
    "occ_occurrence = occ_count_int / nrow(training_set) * 100\n",
    "n.c_occurrence = n.c_count_int / nrow(training_set) * 100\n",
    "# Both values are greater than 1%. Will treat as a separate categorical variable."
   ]
  },
  {
   "cell_type": "markdown",
   "id": "36ccbb34",
   "metadata": {},
   "source": [
    "Next step is to encode categorical variables as factors. The last couple lines of code in this section scales all of the independent variables."
   ]
  },
  {
   "cell_type": "code",
   "execution_count": 3,
   "id": "826dcfd3",
   "metadata": {
    "scrolled": false
   },
   "outputs": [
    {
     "data": {
      "text/html": [
       "<style>\n",
       ".list-inline {list-style: none; margin:0; padding: 0}\n",
       ".list-inline>li {display: inline-block}\n",
       ".list-inline>li:not(:last-child)::after {content: \"\\00b7\"; padding: 0 .5ex}\n",
       "</style>\n",
       "<ol class=list-inline><li>1</li><li>12</li><li>13</li><li>13</li><li>14</li><li>16</li><li>18</li><li>18</li><li>19</li><li>19</li><li>20</li><li>24</li><li>28</li><li>29</li><li>29</li><li>31</li><li>34</li><li>37</li><li>43</li><li>44</li><li>51</li><li>59</li><li>60</li><li>62</li><li>64</li><li>67</li><li>70</li><li>73</li><li>75</li><li>80</li><li>81</li><li>90</li><li>95</li><li>100</li><li>106</li><li>114</li><li>121</li><li>137</li><li>198</li><li>583</li><li>643</li><li>29170</li></ol>\n"
      ],
      "text/latex": [
       "\\begin{enumerate*}\n",
       "\\item 1\n",
       "\\item 12\n",
       "\\item 13\n",
       "\\item 13\n",
       "\\item 14\n",
       "\\item 16\n",
       "\\item 18\n",
       "\\item 18\n",
       "\\item 19\n",
       "\\item 19\n",
       "\\item 20\n",
       "\\item 24\n",
       "\\item 28\n",
       "\\item 29\n",
       "\\item 29\n",
       "\\item 31\n",
       "\\item 34\n",
       "\\item 37\n",
       "\\item 43\n",
       "\\item 44\n",
       "\\item 51\n",
       "\\item 59\n",
       "\\item 60\n",
       "\\item 62\n",
       "\\item 64\n",
       "\\item 67\n",
       "\\item 70\n",
       "\\item 73\n",
       "\\item 75\n",
       "\\item 80\n",
       "\\item 81\n",
       "\\item 90\n",
       "\\item 95\n",
       "\\item 100\n",
       "\\item 106\n",
       "\\item 114\n",
       "\\item 121\n",
       "\\item 137\n",
       "\\item 198\n",
       "\\item 583\n",
       "\\item 643\n",
       "\\item 29170\n",
       "\\end{enumerate*}\n"
      ],
      "text/markdown": [
       "1. 1\n",
       "2. 12\n",
       "3. 13\n",
       "4. 13\n",
       "5. 14\n",
       "6. 16\n",
       "7. 18\n",
       "8. 18\n",
       "9. 19\n",
       "10. 19\n",
       "11. 20\n",
       "12. 24\n",
       "13. 28\n",
       "14. 29\n",
       "15. 29\n",
       "16. 31\n",
       "17. 34\n",
       "18. 37\n",
       "19. 43\n",
       "20. 44\n",
       "21. 51\n",
       "22. 59\n",
       "23. 60\n",
       "24. 62\n",
       "25. 64\n",
       "26. 67\n",
       "27. 70\n",
       "28. 73\n",
       "29. 75\n",
       "30. 80\n",
       "31. 81\n",
       "32. 90\n",
       "33. 95\n",
       "34. 100\n",
       "35. 106\n",
       "36. 114\n",
       "37. 121\n",
       "38. 137\n",
       "39. 198\n",
       "40. 583\n",
       "41. 643\n",
       "42. 29170\n",
       "\n",
       "\n"
      ],
      "text/plain": [
       " [1]     1    12    13    13    14    16    18    18    19    19    20    24\n",
       "[13]    28    29    29    31    34    37    43    44    51    59    60    62\n",
       "[25]    64    67    70    73    75    80    81    90    95   100   106   114\n",
       "[37]   121   137   198   583   643 29170"
      ]
     },
     "metadata": {},
     "output_type": "display_data"
    },
    {
     "data": {
      "text/html": [
       "<style>\n",
       ".list-inline {list-style: none; margin:0; padding: 0}\n",
       ".list-inline>li {display: inline-block}\n",
       ".list-inline>li:not(:last-child)::after {content: \"\\00b7\"; padding: 0 .5ex}\n",
       "</style>\n",
       "<ol class=list-inline><li>1</li><li>12</li><li>13</li><li>13</li><li>14</li><li>16</li><li>18</li><li>18</li><li>19</li><li>19</li><li>20</li><li>24</li><li>28</li><li>29</li><li>29</li><li>31</li><li>34</li><li>37</li><li>43</li><li>44</li><li>51</li><li>59</li><li>60</li><li>62</li><li>64</li><li>67</li><li>70</li><li>73</li><li>75</li><li>80</li><li>81</li><li>90</li><li>95</li><li>100</li><li>106</li><li>114</li><li>121</li><li>137</li><li>198</li><li>583</li><li>643</li><li>29170</li></ol>\n"
      ],
      "text/latex": [
       "\\begin{enumerate*}\n",
       "\\item 1\n",
       "\\item 12\n",
       "\\item 13\n",
       "\\item 13\n",
       "\\item 14\n",
       "\\item 16\n",
       "\\item 18\n",
       "\\item 18\n",
       "\\item 19\n",
       "\\item 19\n",
       "\\item 20\n",
       "\\item 24\n",
       "\\item 28\n",
       "\\item 29\n",
       "\\item 29\n",
       "\\item 31\n",
       "\\item 34\n",
       "\\item 37\n",
       "\\item 43\n",
       "\\item 44\n",
       "\\item 51\n",
       "\\item 59\n",
       "\\item 60\n",
       "\\item 62\n",
       "\\item 64\n",
       "\\item 67\n",
       "\\item 70\n",
       "\\item 73\n",
       "\\item 75\n",
       "\\item 80\n",
       "\\item 81\n",
       "\\item 90\n",
       "\\item 95\n",
       "\\item 100\n",
       "\\item 106\n",
       "\\item 114\n",
       "\\item 121\n",
       "\\item 137\n",
       "\\item 198\n",
       "\\item 583\n",
       "\\item 643\n",
       "\\item 29170\n",
       "\\end{enumerate*}\n"
      ],
      "text/markdown": [
       "1. 1\n",
       "2. 12\n",
       "3. 13\n",
       "4. 13\n",
       "5. 14\n",
       "6. 16\n",
       "7. 18\n",
       "8. 18\n",
       "9. 19\n",
       "10. 19\n",
       "11. 20\n",
       "12. 24\n",
       "13. 28\n",
       "14. 29\n",
       "15. 29\n",
       "16. 31\n",
       "17. 34\n",
       "18. 37\n",
       "19. 43\n",
       "20. 44\n",
       "21. 51\n",
       "22. 59\n",
       "23. 60\n",
       "24. 62\n",
       "25. 64\n",
       "26. 67\n",
       "27. 70\n",
       "28. 73\n",
       "29. 75\n",
       "30. 80\n",
       "31. 81\n",
       "32. 90\n",
       "33. 95\n",
       "34. 100\n",
       "35. 106\n",
       "36. 114\n",
       "37. 121\n",
       "38. 137\n",
       "39. 198\n",
       "40. 583\n",
       "41. 643\n",
       "42. 29170\n",
       "\n",
       "\n"
      ],
      "text/plain": [
       " [1]     1    12    13    13    14    16    18    18    19    19    20    24\n",
       "[13]    28    29    29    31    34    37    43    44    51    59    60    62\n",
       "[25]    64    67    70    73    75    80    81    90    95   100   106   114\n",
       "[37]   121   137   198   583   643 29170"
      ]
     },
     "metadata": {},
     "output_type": "display_data"
    },
    {
     "data": {
      "text/html": [
       "TRUE"
      ],
      "text/latex": [
       "TRUE"
      ],
      "text/markdown": [
       "TRUE"
      ],
      "text/plain": [
       "[1] TRUE"
      ]
     },
     "metadata": {},
     "output_type": "display_data"
    },
    {
     "data": {
      "text/html": [
       "<table class=\"dataframe\">\n",
       "<caption>A data.frame: 6 × 14</caption>\n",
       "<thead>\n",
       "\t<tr><th></th><th scope=col>age</th><th scope=col>workclass</th><th scope=col>fnlwgt</th><th scope=col>education.num</th><th scope=col>marital.status</th><th scope=col>occupation</th><th scope=col>relationship</th><th scope=col>race</th><th scope=col>sex</th><th scope=col>capital.gain</th><th scope=col>capital.loss</th><th scope=col>hours.per.week</th><th scope=col>native.country</th><th scope=col>class</th></tr>\n",
       "\t<tr><th></th><th scope=col>&lt;chr&gt;</th><th scope=col>&lt;dbl&gt;</th><th scope=col>&lt;chr&gt;</th><th scope=col>&lt;chr&gt;</th><th scope=col>&lt;dbl&gt;</th><th scope=col>&lt;dbl&gt;</th><th scope=col>&lt;dbl&gt;</th><th scope=col>&lt;dbl&gt;</th><th scope=col>&lt;dbl&gt;</th><th scope=col>&lt;chr&gt;</th><th scope=col>&lt;chr&gt;</th><th scope=col>&lt;chr&gt;</th><th scope=col>&lt;dbl&gt;</th><th scope=col>&lt;dbl&gt;</th></tr>\n",
       "</thead>\n",
       "<tbody>\n",
       "\t<tr><th scope=row>1</th><td>39</td><td>1</td><td>77516 </td><td>13</td><td>1</td><td>1</td><td>1</td><td>1</td><td>1</td><td>2174</td><td>0</td><td>40</td><td>1</td><td>0</td></tr>\n",
       "\t<tr><th scope=row>2</th><td>50</td><td>2</td><td>83311 </td><td>13</td><td>2</td><td>2</td><td>2</td><td>1</td><td>1</td><td>0   </td><td>0</td><td>13</td><td>1</td><td>0</td></tr>\n",
       "\t<tr><th scope=row>3</th><td>38</td><td>3</td><td>215646</td><td>9 </td><td>3</td><td>3</td><td>1</td><td>1</td><td>1</td><td>0   </td><td>0</td><td>40</td><td>1</td><td>0</td></tr>\n",
       "\t<tr><th scope=row>4</th><td>53</td><td>3</td><td>234721</td><td>7 </td><td>2</td><td>3</td><td>2</td><td>2</td><td>1</td><td>0   </td><td>0</td><td>40</td><td>1</td><td>0</td></tr>\n",
       "\t<tr><th scope=row>5</th><td>28</td><td>3</td><td>338409</td><td>13</td><td>2</td><td>4</td><td>3</td><td>2</td><td>2</td><td>0   </td><td>0</td><td>40</td><td>2</td><td>0</td></tr>\n",
       "\t<tr><th scope=row>6</th><td>37</td><td>3</td><td>284582</td><td>14</td><td>2</td><td>2</td><td>3</td><td>1</td><td>2</td><td>0   </td><td>0</td><td>40</td><td>1</td><td>0</td></tr>\n",
       "</tbody>\n",
       "</table>\n"
      ],
      "text/latex": [
       "A data.frame: 6 × 14\n",
       "\\begin{tabular}{r|llllllllllllll}\n",
       "  & age & workclass & fnlwgt & education.num & marital.status & occupation & relationship & race & sex & capital.gain & capital.loss & hours.per.week & native.country & class\\\\\n",
       "  & <chr> & <dbl> & <chr> & <chr> & <dbl> & <dbl> & <dbl> & <dbl> & <dbl> & <chr> & <chr> & <chr> & <dbl> & <dbl>\\\\\n",
       "\\hline\n",
       "\t1 & 39 & 1 & 77516  & 13 & 1 & 1 & 1 & 1 & 1 & 2174 & 0 & 40 & 1 & 0\\\\\n",
       "\t2 & 50 & 2 & 83311  & 13 & 2 & 2 & 2 & 1 & 1 & 0    & 0 & 13 & 1 & 0\\\\\n",
       "\t3 & 38 & 3 & 215646 & 9  & 3 & 3 & 1 & 1 & 1 & 0    & 0 & 40 & 1 & 0\\\\\n",
       "\t4 & 53 & 3 & 234721 & 7  & 2 & 3 & 2 & 2 & 1 & 0    & 0 & 40 & 1 & 0\\\\\n",
       "\t5 & 28 & 3 & 338409 & 13 & 2 & 4 & 3 & 2 & 2 & 0    & 0 & 40 & 2 & 0\\\\\n",
       "\t6 & 37 & 3 & 284582 & 14 & 2 & 2 & 3 & 1 & 2 & 0    & 0 & 40 & 1 & 0\\\\\n",
       "\\end{tabular}\n"
      ],
      "text/markdown": [
       "\n",
       "A data.frame: 6 × 14\n",
       "\n",
       "| <!--/--> | age &lt;chr&gt; | workclass &lt;dbl&gt; | fnlwgt &lt;chr&gt; | education.num &lt;chr&gt; | marital.status &lt;dbl&gt; | occupation &lt;dbl&gt; | relationship &lt;dbl&gt; | race &lt;dbl&gt; | sex &lt;dbl&gt; | capital.gain &lt;chr&gt; | capital.loss &lt;chr&gt; | hours.per.week &lt;chr&gt; | native.country &lt;dbl&gt; | class &lt;dbl&gt; |\n",
       "|---|---|---|---|---|---|---|---|---|---|---|---|---|---|---|\n",
       "| 1 | 39 | 1 | 77516  | 13 | 1 | 1 | 1 | 1 | 1 | 2174 | 0 | 40 | 1 | 0 |\n",
       "| 2 | 50 | 2 | 83311  | 13 | 2 | 2 | 2 | 1 | 1 | 0    | 0 | 13 | 1 | 0 |\n",
       "| 3 | 38 | 3 | 215646 | 9  | 3 | 3 | 1 | 1 | 1 | 0    | 0 | 40 | 1 | 0 |\n",
       "| 4 | 53 | 3 | 234721 | 7  | 2 | 3 | 2 | 2 | 1 | 0    | 0 | 40 | 1 | 0 |\n",
       "| 5 | 28 | 3 | 338409 | 13 | 2 | 4 | 3 | 2 | 2 | 0    | 0 | 40 | 2 | 0 |\n",
       "| 6 | 37 | 3 | 284582 | 14 | 2 | 2 | 3 | 1 | 2 | 0    | 0 | 40 | 1 | 0 |\n",
       "\n"
      ],
      "text/plain": [
       "  age workclass fnlwgt education.num marital.status occupation relationship\n",
       "1 39  1         77516  13            1              1          1           \n",
       "2 50  2         83311  13            2              2          2           \n",
       "3 38  3         215646 9             3              3          1           \n",
       "4 53  3         234721 7             2              3          2           \n",
       "5 28  3         338409 13            2              4          3           \n",
       "6 37  3         284582 14            2              2          3           \n",
       "  race sex capital.gain capital.loss hours.per.week native.country class\n",
       "1 1    1   2174         0            40             1              0    \n",
       "2 1    1   0            0            13             1              0    \n",
       "3 1    1   0            0            40             1              0    \n",
       "4 2    1   0            0            40             1              0    \n",
       "5 2    2   0            0            40             2              0    \n",
       "6 1    2   0            0            40             1              0    "
      ]
     },
     "metadata": {},
     "output_type": "display_data"
    },
    {
     "data": {
      "text/html": [
       "<table class=\"dataframe\">\n",
       "<caption>A data.frame: 6 × 14</caption>\n",
       "<thead>\n",
       "\t<tr><th></th><th scope=col>age</th><th scope=col>workclass</th><th scope=col>fnlwgt</th><th scope=col>education.num</th><th scope=col>marital.status</th><th scope=col>occupation</th><th scope=col>relationship</th><th scope=col>race</th><th scope=col>sex</th><th scope=col>capital.gain</th><th scope=col>capital.loss</th><th scope=col>hours.per.week</th><th scope=col>native.country</th><th scope=col>class</th></tr>\n",
       "\t<tr><th></th><th scope=col>&lt;dbl&gt;</th><th scope=col>&lt;dbl&gt;</th><th scope=col>&lt;dbl&gt;</th><th scope=col>&lt;dbl&gt;</th><th scope=col>&lt;dbl&gt;</th><th scope=col>&lt;dbl&gt;</th><th scope=col>&lt;dbl&gt;</th><th scope=col>&lt;dbl&gt;</th><th scope=col>&lt;dbl&gt;</th><th scope=col>&lt;dbl&gt;</th><th scope=col>&lt;dbl&gt;</th><th scope=col>&lt;dbl&gt;</th><th scope=col>&lt;dbl&gt;</th><th scope=col>&lt;dbl&gt;</th></tr>\n",
       "</thead>\n",
       "<tbody>\n",
       "\t<tr><th scope=row>1</th><td>39</td><td>1</td><td> 77516</td><td>13</td><td>1</td><td>1</td><td>1</td><td>1</td><td>1</td><td>2174</td><td>0</td><td>40</td><td>1</td><td>0</td></tr>\n",
       "\t<tr><th scope=row>2</th><td>50</td><td>2</td><td> 83311</td><td>13</td><td>2</td><td>2</td><td>2</td><td>1</td><td>1</td><td>   0</td><td>0</td><td>13</td><td>1</td><td>0</td></tr>\n",
       "\t<tr><th scope=row>3</th><td>38</td><td>3</td><td>215646</td><td> 9</td><td>3</td><td>3</td><td>1</td><td>1</td><td>1</td><td>   0</td><td>0</td><td>40</td><td>1</td><td>0</td></tr>\n",
       "\t<tr><th scope=row>4</th><td>53</td><td>3</td><td>234721</td><td> 7</td><td>2</td><td>3</td><td>2</td><td>2</td><td>1</td><td>   0</td><td>0</td><td>40</td><td>1</td><td>0</td></tr>\n",
       "\t<tr><th scope=row>5</th><td>28</td><td>3</td><td>338409</td><td>13</td><td>2</td><td>4</td><td>3</td><td>2</td><td>2</td><td>   0</td><td>0</td><td>40</td><td>2</td><td>0</td></tr>\n",
       "\t<tr><th scope=row>6</th><td>37</td><td>3</td><td>284582</td><td>14</td><td>2</td><td>2</td><td>3</td><td>1</td><td>2</td><td>   0</td><td>0</td><td>40</td><td>1</td><td>0</td></tr>\n",
       "</tbody>\n",
       "</table>\n"
      ],
      "text/latex": [
       "A data.frame: 6 × 14\n",
       "\\begin{tabular}{r|llllllllllllll}\n",
       "  & age & workclass & fnlwgt & education.num & marital.status & occupation & relationship & race & sex & capital.gain & capital.loss & hours.per.week & native.country & class\\\\\n",
       "  & <dbl> & <dbl> & <dbl> & <dbl> & <dbl> & <dbl> & <dbl> & <dbl> & <dbl> & <dbl> & <dbl> & <dbl> & <dbl> & <dbl>\\\\\n",
       "\\hline\n",
       "\t1 & 39 & 1 &  77516 & 13 & 1 & 1 & 1 & 1 & 1 & 2174 & 0 & 40 & 1 & 0\\\\\n",
       "\t2 & 50 & 2 &  83311 & 13 & 2 & 2 & 2 & 1 & 1 &    0 & 0 & 13 & 1 & 0\\\\\n",
       "\t3 & 38 & 3 & 215646 &  9 & 3 & 3 & 1 & 1 & 1 &    0 & 0 & 40 & 1 & 0\\\\\n",
       "\t4 & 53 & 3 & 234721 &  7 & 2 & 3 & 2 & 2 & 1 &    0 & 0 & 40 & 1 & 0\\\\\n",
       "\t5 & 28 & 3 & 338409 & 13 & 2 & 4 & 3 & 2 & 2 &    0 & 0 & 40 & 2 & 0\\\\\n",
       "\t6 & 37 & 3 & 284582 & 14 & 2 & 2 & 3 & 1 & 2 &    0 & 0 & 40 & 1 & 0\\\\\n",
       "\\end{tabular}\n"
      ],
      "text/markdown": [
       "\n",
       "A data.frame: 6 × 14\n",
       "\n",
       "| <!--/--> | age &lt;dbl&gt; | workclass &lt;dbl&gt; | fnlwgt &lt;dbl&gt; | education.num &lt;dbl&gt; | marital.status &lt;dbl&gt; | occupation &lt;dbl&gt; | relationship &lt;dbl&gt; | race &lt;dbl&gt; | sex &lt;dbl&gt; | capital.gain &lt;dbl&gt; | capital.loss &lt;dbl&gt; | hours.per.week &lt;dbl&gt; | native.country &lt;dbl&gt; | class &lt;dbl&gt; |\n",
       "|---|---|---|---|---|---|---|---|---|---|---|---|---|---|---|\n",
       "| 1 | 39 | 1 |  77516 | 13 | 1 | 1 | 1 | 1 | 1 | 2174 | 0 | 40 | 1 | 0 |\n",
       "| 2 | 50 | 2 |  83311 | 13 | 2 | 2 | 2 | 1 | 1 |    0 | 0 | 13 | 1 | 0 |\n",
       "| 3 | 38 | 3 | 215646 |  9 | 3 | 3 | 1 | 1 | 1 |    0 | 0 | 40 | 1 | 0 |\n",
       "| 4 | 53 | 3 | 234721 |  7 | 2 | 3 | 2 | 2 | 1 |    0 | 0 | 40 | 1 | 0 |\n",
       "| 5 | 28 | 3 | 338409 | 13 | 2 | 4 | 3 | 2 | 2 |    0 | 0 | 40 | 2 | 0 |\n",
       "| 6 | 37 | 3 | 284582 | 14 | 2 | 2 | 3 | 1 | 2 |    0 | 0 | 40 | 1 | 0 |\n",
       "\n"
      ],
      "text/plain": [
       "  age workclass fnlwgt education.num marital.status occupation relationship\n",
       "1 39  1          77516 13            1              1          1           \n",
       "2 50  2          83311 13            2              2          2           \n",
       "3 38  3         215646  9            3              3          1           \n",
       "4 53  3         234721  7            2              3          2           \n",
       "5 28  3         338409 13            2              4          3           \n",
       "6 37  3         284582 14            2              2          3           \n",
       "  race sex capital.gain capital.loss hours.per.week native.country class\n",
       "1 1    1   2174         0            40             1              0    \n",
       "2 1    1      0         0            13             1              0    \n",
       "3 1    1      0         0            40             1              0    \n",
       "4 2    1      0         0            40             1              0    \n",
       "5 2    2      0         0            40             2              0    \n",
       "6 1    2      0         0            40             1              0    "
      ]
     },
     "metadata": {},
     "output_type": "display_data"
    },
    {
     "data": {
      "text/html": [
       "<table class=\"dataframe\">\n",
       "<caption>A data.frame: 6 × 14</caption>\n",
       "<thead>\n",
       "\t<tr><th></th><th scope=col>age</th><th scope=col>workclass</th><th scope=col>fnlwgt</th><th scope=col>education.num</th><th scope=col>marital.status</th><th scope=col>occupation</th><th scope=col>relationship</th><th scope=col>race</th><th scope=col>sex</th><th scope=col>capital.gain</th><th scope=col>capital.loss</th><th scope=col>hours.per.week</th><th scope=col>native.country</th><th scope=col>class</th></tr>\n",
       "\t<tr><th></th><th scope=col>&lt;dbl&gt;</th><th scope=col>&lt;dbl&gt;</th><th scope=col>&lt;dbl&gt;</th><th scope=col>&lt;dbl&gt;</th><th scope=col>&lt;dbl&gt;</th><th scope=col>&lt;dbl&gt;</th><th scope=col>&lt;dbl&gt;</th><th scope=col>&lt;dbl&gt;</th><th scope=col>&lt;dbl&gt;</th><th scope=col>&lt;dbl&gt;</th><th scope=col>&lt;dbl&gt;</th><th scope=col>&lt;dbl&gt;</th><th scope=col>&lt;dbl&gt;</th><th scope=col>&lt;dbl&gt;</th></tr>\n",
       "</thead>\n",
       "<tbody>\n",
       "\t<tr><th scope=row>1</th><td>25</td><td>1</td><td>226802</td><td> 7</td><td>1</td><td>1</td><td>1</td><td>1</td><td>1</td><td>   0</td><td>0</td><td>40</td><td>1</td><td>0</td></tr>\n",
       "\t<tr><th scope=row>2</th><td>38</td><td>1</td><td> 89814</td><td> 9</td><td>2</td><td>2</td><td>2</td><td>2</td><td>1</td><td>   0</td><td>0</td><td>50</td><td>1</td><td>0</td></tr>\n",
       "\t<tr><th scope=row>3</th><td>28</td><td>2</td><td>336951</td><td>12</td><td>2</td><td>3</td><td>2</td><td>2</td><td>1</td><td>   0</td><td>0</td><td>40</td><td>1</td><td>1</td></tr>\n",
       "\t<tr><th scope=row>4</th><td>44</td><td>1</td><td>160323</td><td>10</td><td>2</td><td>1</td><td>2</td><td>1</td><td>1</td><td>7688</td><td>0</td><td>40</td><td>1</td><td>1</td></tr>\n",
       "\t<tr><th scope=row>5</th><td>18</td><td>3</td><td>103497</td><td>10</td><td>1</td><td>4</td><td>1</td><td>2</td><td>2</td><td>   0</td><td>0</td><td>30</td><td>1</td><td>0</td></tr>\n",
       "\t<tr><th scope=row>6</th><td>34</td><td>1</td><td>198693</td><td> 6</td><td>1</td><td>5</td><td>3</td><td>2</td><td>1</td><td>   0</td><td>0</td><td>30</td><td>1</td><td>0</td></tr>\n",
       "</tbody>\n",
       "</table>\n"
      ],
      "text/latex": [
       "A data.frame: 6 × 14\n",
       "\\begin{tabular}{r|llllllllllllll}\n",
       "  & age & workclass & fnlwgt & education.num & marital.status & occupation & relationship & race & sex & capital.gain & capital.loss & hours.per.week & native.country & class\\\\\n",
       "  & <dbl> & <dbl> & <dbl> & <dbl> & <dbl> & <dbl> & <dbl> & <dbl> & <dbl> & <dbl> & <dbl> & <dbl> & <dbl> & <dbl>\\\\\n",
       "\\hline\n",
       "\t1 & 25 & 1 & 226802 &  7 & 1 & 1 & 1 & 1 & 1 &    0 & 0 & 40 & 1 & 0\\\\\n",
       "\t2 & 38 & 1 &  89814 &  9 & 2 & 2 & 2 & 2 & 1 &    0 & 0 & 50 & 1 & 0\\\\\n",
       "\t3 & 28 & 2 & 336951 & 12 & 2 & 3 & 2 & 2 & 1 &    0 & 0 & 40 & 1 & 1\\\\\n",
       "\t4 & 44 & 1 & 160323 & 10 & 2 & 1 & 2 & 1 & 1 & 7688 & 0 & 40 & 1 & 1\\\\\n",
       "\t5 & 18 & 3 & 103497 & 10 & 1 & 4 & 1 & 2 & 2 &    0 & 0 & 30 & 1 & 0\\\\\n",
       "\t6 & 34 & 1 & 198693 &  6 & 1 & 5 & 3 & 2 & 1 &    0 & 0 & 30 & 1 & 0\\\\\n",
       "\\end{tabular}\n"
      ],
      "text/markdown": [
       "\n",
       "A data.frame: 6 × 14\n",
       "\n",
       "| <!--/--> | age &lt;dbl&gt; | workclass &lt;dbl&gt; | fnlwgt &lt;dbl&gt; | education.num &lt;dbl&gt; | marital.status &lt;dbl&gt; | occupation &lt;dbl&gt; | relationship &lt;dbl&gt; | race &lt;dbl&gt; | sex &lt;dbl&gt; | capital.gain &lt;dbl&gt; | capital.loss &lt;dbl&gt; | hours.per.week &lt;dbl&gt; | native.country &lt;dbl&gt; | class &lt;dbl&gt; |\n",
       "|---|---|---|---|---|---|---|---|---|---|---|---|---|---|---|\n",
       "| 1 | 25 | 1 | 226802 |  7 | 1 | 1 | 1 | 1 | 1 |    0 | 0 | 40 | 1 | 0 |\n",
       "| 2 | 38 | 1 |  89814 |  9 | 2 | 2 | 2 | 2 | 1 |    0 | 0 | 50 | 1 | 0 |\n",
       "| 3 | 28 | 2 | 336951 | 12 | 2 | 3 | 2 | 2 | 1 |    0 | 0 | 40 | 1 | 1 |\n",
       "| 4 | 44 | 1 | 160323 | 10 | 2 | 1 | 2 | 1 | 1 | 7688 | 0 | 40 | 1 | 1 |\n",
       "| 5 | 18 | 3 | 103497 | 10 | 1 | 4 | 1 | 2 | 2 |    0 | 0 | 30 | 1 | 0 |\n",
       "| 6 | 34 | 1 | 198693 |  6 | 1 | 5 | 3 | 2 | 1 |    0 | 0 | 30 | 1 | 0 |\n",
       "\n"
      ],
      "text/plain": [
       "  age workclass fnlwgt education.num marital.status occupation relationship\n",
       "1 25  1         226802  7            1              1          1           \n",
       "2 38  1          89814  9            2              2          2           \n",
       "3 28  2         336951 12            2              3          2           \n",
       "4 44  1         160323 10            2              1          2           \n",
       "5 18  3         103497 10            1              4          1           \n",
       "6 34  1         198693  6            1              5          3           \n",
       "  race sex capital.gain capital.loss hours.per.week native.country class\n",
       "1 1    1      0         0            40             1              0    \n",
       "2 2    1      0         0            50             1              0    \n",
       "3 2    1      0         0            40             1              1    \n",
       "4 1    1   7688         0            40             1              1    \n",
       "5 2    2      0         0            30             1              0    \n",
       "6 2    1      0         0            30             1              0    "
      ]
     },
     "metadata": {},
     "output_type": "display_data"
    }
   ],
   "source": [
    "# Encoding the categorical variables as factors\n",
    "\n",
    "# -------------------------\n",
    "# Performing all categorical encoding to training data\n",
    "# -------------------------\n",
    "training_set$workclass = as.numeric(factor(training_set$workclass,\n",
    "                                                levels = unique(training_set$workclass),\n",
    "                                                labels = c(1:9)))\n",
    "\n",
    "training_set$marital.status = as.numeric(factor(training_set$marital.status,\n",
    "                                           levels = unique(training_set$marital.status),\n",
    "                                           labels = c(1:7)))\n",
    "\n",
    "training_set$occupation = as.numeric(factor(training_set$occupation,\n",
    "                                                levels = unique(training_set$occupation),\n",
    "                                                labels = c(1:15)))\n",
    "\n",
    "training_set$relationship = as.numeric(factor(training_set$relationship,\n",
    "                                                levels = unique(training_set$relationship),\n",
    "                                                labels = c(1:6)))\n",
    "\n",
    "training_set$race = as.numeric(factor(training_set$race,\n",
    "                                              levels = unique(training_set$race),\n",
    "                                              labels = c(1:5)))\n",
    "\n",
    "training_set$sex = as.numeric(factor(training_set$sex,\n",
    "                                  levels = c('Male', 'Female'),\n",
    "                                  labels = c(1, 2)))\n",
    "\n",
    "training_set$class = as.numeric(factor(training_set$class,\n",
    "                                     levels = c('<=50K', '>50K'),\n",
    "                                     labels = c(1, 2)))\n",
    "# R indexing is 1-based. If I would try to force labels of 0 and 1, it still outputs 1 and 2. \n",
    "# So I need to subtract 1 from each value in the dependent variable to have proper binary notation for classification machine learning\n",
    "training_set$class = as.numeric(training_set$class - 1)\n",
    "\n",
    "#creating temp table of counts for distinct native.country variables pre factoring\n",
    "pre_n.c_factor <- training_set %>% \n",
    "  count(native.country)\n",
    "sort(pre_n.c_factor$n)\n",
    "\n",
    "training_set$native.country = as.numeric(factor(training_set$native.country,\n",
    "                                     levels = unique(training_set$native.country),\n",
    "                                     labels = c(1:42)))\n",
    "\n",
    "#creating temp table of counts for distinct native.country variables post factoring\n",
    "post_n.c_factor <- training_set %>% \n",
    "  count(native.country)\n",
    "sort(post_n.c_factor$n)\n",
    "\n",
    "# Returns 'TRUE' if the sorted count values of pre and post factoring this large categorical data had the same counts\n",
    "# This is a nice way to confirm no errors from the factoring of 42 categorical variables.\n",
    "identical(sort(pre_n.c_factor$n), sort(post_n.c_factor$n))    #TRUE\n",
    "\n",
    "# -------------------------\n",
    "# Performing all categorical encoding to test data\n",
    "# -------------------------\n",
    "\n",
    "test_set$workclass = as.numeric(factor(test_set$workclass,\n",
    "                                           levels = unique(test_set$workclass),\n",
    "                                           labels = c(1:9)))\n",
    "\n",
    "test_set$marital.status = as.numeric(factor(test_set$marital.status,\n",
    "                                                levels = unique(test_set$marital.status),\n",
    "                                                labels = c(1:7)))\n",
    "\n",
    "test_set$occupation = as.numeric(factor(test_set$occupation,\n",
    "                                            levels = unique(test_set$occupation),\n",
    "                                            labels = c(1:15)))\n",
    "\n",
    "test_set$relationship = as.numeric(factor(test_set$relationship,\n",
    "                                              levels = unique(test_set$relationship),\n",
    "                                              labels = c(1:6)))\n",
    "\n",
    "test_set$race = as.numeric(factor(test_set$race,\n",
    "                                      levels = unique(test_set$race),\n",
    "                                      labels = c(1:5)))\n",
    "\n",
    "test_set$sex = as.numeric(factor(test_set$sex,\n",
    "                                     levels = c('Male', 'Female'),\n",
    "                                     labels = c(1, 2)))\n",
    "\n",
    "test_set$class = as.numeric(factor(test_set$class,\n",
    "                                       levels = c('<=50K', '>50K'),\n",
    "                                       labels = c(1, 2)))\n",
    "test_set$class = as.numeric(test_set$class - 1)\n",
    "\n",
    "test_set$native.country = as.numeric(factor(test_set$native.country,\n",
    "                                                levels = unique(test_set$native.country),\n",
    "                                                labels = c(1:41)))\n",
    "\n",
    "\n",
    "# Confirming all variables are visibly numerical and checking variable types\n",
    "head(training_set)\n",
    "# converting and confirming all variables are numerical\n",
    "training_set[] <- lapply(training_set, function(x) as.numeric(as.character(x)))\n",
    "head(training_set)\n",
    "\n",
    "test_set[] <- lapply(test_set, function(x) as.numeric(as.character(x)))\n",
    "head(test_set)\n",
    "\n",
    "#Values are numeric. Time to scale independent variables\n",
    "# Feature Scaling\n",
    "training_set[-14] = scale(training_set[-14])\n",
    "test_set[-14] = scale(test_set[-14])"
   ]
  },
  {
   "cell_type": "markdown",
   "id": "6e49743d",
   "metadata": {},
   "source": [
    "#### Algorithm Comparisons and Predictions\n",
    "Next, I am performing two variations of k-Fold Cross Validation using XGBoost. Due to the vast majority (>99.5%) of capital.gain and capital.loss values being '0', I want to determine if it is better to ignore these values or use them in the models."
   ]
  },
  {
   "cell_type": "code",
   "execution_count": 4,
   "id": "73c2f920",
   "metadata": {
    "scrolled": true
   },
   "outputs": [
    {
     "name": "stdout",
     "output_type": "stream",
     "text": [
      "[1]\ttrain-rmse:0.419012 \n",
      "[2]\ttrain-rmse:0.370688 \n",
      "[3]\ttrain-rmse:0.344090 \n",
      "[4]\ttrain-rmse:0.328461 \n",
      "[5]\ttrain-rmse:0.319063 \n",
      "[6]\ttrain-rmse:0.313281 \n",
      "[7]\ttrain-rmse:0.308808 \n",
      "[8]\ttrain-rmse:0.305528 \n",
      "[9]\ttrain-rmse:0.303408 \n",
      "[10]\ttrain-rmse:0.300926 \n",
      "[1]\ttrain-rmse:0.419033 \n",
      "[2]\ttrain-rmse:0.371415 \n",
      "[3]\ttrain-rmse:0.344481 \n",
      "[4]\ttrain-rmse:0.328957 \n",
      "[5]\ttrain-rmse:0.319411 \n",
      "[6]\ttrain-rmse:0.313369 \n",
      "[7]\ttrain-rmse:0.309524 \n",
      "[8]\ttrain-rmse:0.306385 \n",
      "[9]\ttrain-rmse:0.304435 \n",
      "[10]\ttrain-rmse:0.302339 \n",
      "[1]\ttrain-rmse:0.418706 \n",
      "[2]\ttrain-rmse:0.370990 \n",
      "[3]\ttrain-rmse:0.344002 \n",
      "[4]\ttrain-rmse:0.328280 \n",
      "[5]\ttrain-rmse:0.317856 \n",
      "[6]\ttrain-rmse:0.311989 \n",
      "[7]\ttrain-rmse:0.308026 \n",
      "[8]\ttrain-rmse:0.304917 \n",
      "[9]\ttrain-rmse:0.303076 \n",
      "[10]\ttrain-rmse:0.300878 \n",
      "[1]\ttrain-rmse:0.418987 \n",
      "[2]\ttrain-rmse:0.370587 \n",
      "[3]\ttrain-rmse:0.343632 \n",
      "[4]\ttrain-rmse:0.328081 \n",
      "[5]\ttrain-rmse:0.318498 \n",
      "[6]\ttrain-rmse:0.312723 \n",
      "[7]\ttrain-rmse:0.308906 \n",
      "[8]\ttrain-rmse:0.305976 \n",
      "[9]\ttrain-rmse:0.303710 \n",
      "[10]\ttrain-rmse:0.301697 \n",
      "[1]\ttrain-rmse:0.418951 \n",
      "[2]\ttrain-rmse:0.370701 \n",
      "[3]\ttrain-rmse:0.344102 \n",
      "[4]\ttrain-rmse:0.328488 \n",
      "[5]\ttrain-rmse:0.318989 \n",
      "[6]\ttrain-rmse:0.313331 \n",
      "[7]\ttrain-rmse:0.309433 \n",
      "[8]\ttrain-rmse:0.306562 \n",
      "[9]\ttrain-rmse:0.303832 \n",
      "[10]\ttrain-rmse:0.301831 \n",
      "[1]\ttrain-rmse:0.419118 \n",
      "[2]\ttrain-rmse:0.371562 \n",
      "[3]\ttrain-rmse:0.344743 \n",
      "[4]\ttrain-rmse:0.329196 \n",
      "[5]\ttrain-rmse:0.319677 \n",
      "[6]\ttrain-rmse:0.313947 \n",
      "[7]\ttrain-rmse:0.309832 \n",
      "[8]\ttrain-rmse:0.306880 \n",
      "[9]\ttrain-rmse:0.304509 \n",
      "[10]\ttrain-rmse:0.302187 \n",
      "[1]\ttrain-rmse:0.419100 \n",
      "[2]\ttrain-rmse:0.371571 \n",
      "[3]\ttrain-rmse:0.344957 \n",
      "[4]\ttrain-rmse:0.329124 \n",
      "[5]\ttrain-rmse:0.318571 \n",
      "[6]\ttrain-rmse:0.312534 \n",
      "[7]\ttrain-rmse:0.308573 \n",
      "[8]\ttrain-rmse:0.305538 \n",
      "[9]\ttrain-rmse:0.302926 \n",
      "[10]\ttrain-rmse:0.301007 \n",
      "[1]\ttrain-rmse:0.419349 \n",
      "[2]\ttrain-rmse:0.371074 \n",
      "[3]\ttrain-rmse:0.344133 \n",
      "[4]\ttrain-rmse:0.328516 \n",
      "[5]\ttrain-rmse:0.319025 \n",
      "[6]\ttrain-rmse:0.312779 \n",
      "[7]\ttrain-rmse:0.308964 \n",
      "[8]\ttrain-rmse:0.306188 \n",
      "[9]\ttrain-rmse:0.303901 \n",
      "[10]\ttrain-rmse:0.302411 \n",
      "[1]\ttrain-rmse:0.418807 \n",
      "[2]\ttrain-rmse:0.370182 \n",
      "[3]\ttrain-rmse:0.343337 \n",
      "[4]\ttrain-rmse:0.327843 \n",
      "[5]\ttrain-rmse:0.317683 \n",
      "[6]\ttrain-rmse:0.311982 \n",
      "[7]\ttrain-rmse:0.307584 \n",
      "[8]\ttrain-rmse:0.304657 \n",
      "[9]\ttrain-rmse:0.302266 \n",
      "[10]\ttrain-rmse:0.300623 \n",
      "[1]\ttrain-rmse:0.419112 \n",
      "[2]\ttrain-rmse:0.371721 \n",
      "[3]\ttrain-rmse:0.345049 \n",
      "[4]\ttrain-rmse:0.329006 \n",
      "[5]\ttrain-rmse:0.319764 \n",
      "[6]\ttrain-rmse:0.313825 \n",
      "[7]\ttrain-rmse:0.309966 \n",
      "[8]\ttrain-rmse:0.306184 \n",
      "[9]\ttrain-rmse:0.303475 \n",
      "[10]\ttrain-rmse:0.301599 \n"
     ]
    },
    {
     "data": {
      "text/html": [
       "<dl>\n",
       "\t<dt>$Fold01</dt>\n",
       "\t\t<dd>0.863636363636364</dd>\n",
       "\t<dt>$Fold02</dt>\n",
       "\t\t<dd>0.863636363636364</dd>\n",
       "\t<dt>$Fold03</dt>\n",
       "\t\t<dd>0.856879606879607</dd>\n",
       "\t<dt>$Fold04</dt>\n",
       "\t\t<dd>0.863943488943489</dd>\n",
       "\t<dt>$Fold05</dt>\n",
       "\t\t<dd>0.858722358722359</dd>\n",
       "\t<dt>$Fold06</dt>\n",
       "\t\t<dd>0.861486486486487</dd>\n",
       "\t<dt>$Fold07</dt>\n",
       "\t\t<dd>0.862100737100737</dd>\n",
       "\t<dt>$Fold08</dt>\n",
       "\t\t<dd>0.867014742014742</dd>\n",
       "\t<dt>$Fold09</dt>\n",
       "\t\t<dd>0.863329238329238</dd>\n",
       "\t<dt>$Fold10</dt>\n",
       "\t\t<dd>0.860607921400061</dd>\n",
       "</dl>\n"
      ],
      "text/latex": [
       "\\begin{description}\n",
       "\\item[\\$Fold01] 0.863636363636364\n",
       "\\item[\\$Fold02] 0.863636363636364\n",
       "\\item[\\$Fold03] 0.856879606879607\n",
       "\\item[\\$Fold04] 0.863943488943489\n",
       "\\item[\\$Fold05] 0.858722358722359\n",
       "\\item[\\$Fold06] 0.861486486486487\n",
       "\\item[\\$Fold07] 0.862100737100737\n",
       "\\item[\\$Fold08] 0.867014742014742\n",
       "\\item[\\$Fold09] 0.863329238329238\n",
       "\\item[\\$Fold10] 0.860607921400061\n",
       "\\end{description}\n"
      ],
      "text/markdown": [
       "$Fold01\n",
       ":   0.863636363636364\n",
       "$Fold02\n",
       ":   0.863636363636364\n",
       "$Fold03\n",
       ":   0.856879606879607\n",
       "$Fold04\n",
       ":   0.863943488943489\n",
       "$Fold05\n",
       ":   0.858722358722359\n",
       "$Fold06\n",
       ":   0.861486486486487\n",
       "$Fold07\n",
       ":   0.862100737100737\n",
       "$Fold08\n",
       ":   0.867014742014742\n",
       "$Fold09\n",
       ":   0.863329238329238\n",
       "$Fold10\n",
       ":   0.860607921400061\n",
       "\n",
       "\n"
      ],
      "text/plain": [
       "$Fold01\n",
       "[1] 0.8636364\n",
       "\n",
       "$Fold02\n",
       "[1] 0.8636364\n",
       "\n",
       "$Fold03\n",
       "[1] 0.8568796\n",
       "\n",
       "$Fold04\n",
       "[1] 0.8639435\n",
       "\n",
       "$Fold05\n",
       "[1] 0.8587224\n",
       "\n",
       "$Fold06\n",
       "[1] 0.8614865\n",
       "\n",
       "$Fold07\n",
       "[1] 0.8621007\n",
       "\n",
       "$Fold08\n",
       "[1] 0.8670147\n",
       "\n",
       "$Fold09\n",
       "[1] 0.8633292\n",
       "\n",
       "$Fold10\n",
       "[1] 0.8606079\n"
      ]
     },
     "metadata": {},
     "output_type": "display_data"
    },
    {
     "data": {
      "text/html": [
       "0.862135730714945"
      ],
      "text/latex": [
       "0.862135730714945"
      ],
      "text/markdown": [
       "0.862135730714945"
      ],
      "text/plain": [
       "[1] 0.8621357"
      ]
     },
     "metadata": {},
     "output_type": "display_data"
    },
    {
     "name": "stdout",
     "output_type": "stream",
     "text": [
      "[1]\ttrain-rmse:0.425992 \n",
      "[2]\ttrain-rmse:0.383383 \n",
      "[3]\ttrain-rmse:0.359584 \n",
      "[4]\ttrain-rmse:0.346074 \n",
      "[5]\ttrain-rmse:0.338425 \n",
      "[6]\ttrain-rmse:0.333390 \n",
      "[7]\ttrain-rmse:0.330087 \n",
      "[8]\ttrain-rmse:0.327741 \n",
      "[9]\ttrain-rmse:0.325990 \n",
      "[10]\ttrain-rmse:0.324604 \n",
      "[1]\ttrain-rmse:0.426309 \n",
      "[2]\ttrain-rmse:0.383514 \n",
      "[3]\ttrain-rmse:0.359852 \n",
      "[4]\ttrain-rmse:0.346372 \n",
      "[5]\ttrain-rmse:0.338964 \n",
      "[6]\ttrain-rmse:0.334235 \n",
      "[7]\ttrain-rmse:0.330978 \n",
      "[8]\ttrain-rmse:0.328547 \n",
      "[9]\ttrain-rmse:0.326406 \n",
      "[10]\ttrain-rmse:0.325019 \n",
      "[1]\ttrain-rmse:0.426101 \n",
      "[2]\ttrain-rmse:0.383148 \n",
      "[3]\ttrain-rmse:0.359318 \n",
      "[4]\ttrain-rmse:0.345974 \n",
      "[5]\ttrain-rmse:0.338095 \n",
      "[6]\ttrain-rmse:0.333544 \n",
      "[7]\ttrain-rmse:0.330435 \n",
      "[8]\ttrain-rmse:0.328013 \n",
      "[9]\ttrain-rmse:0.326491 \n",
      "[10]\ttrain-rmse:0.324985 \n",
      "[1]\ttrain-rmse:0.426077 \n",
      "[2]\ttrain-rmse:0.383353 \n",
      "[3]\ttrain-rmse:0.359658 \n",
      "[4]\ttrain-rmse:0.346199 \n",
      "[5]\ttrain-rmse:0.338438 \n",
      "[6]\ttrain-rmse:0.333372 \n",
      "[7]\ttrain-rmse:0.330325 \n",
      "[8]\ttrain-rmse:0.327941 \n",
      "[9]\ttrain-rmse:0.326099 \n",
      "[10]\ttrain-rmse:0.324775 \n",
      "[1]\ttrain-rmse:0.426135 \n",
      "[2]\ttrain-rmse:0.383490 \n",
      "[3]\ttrain-rmse:0.359905 \n",
      "[4]\ttrain-rmse:0.346611 \n",
      "[5]\ttrain-rmse:0.338725 \n",
      "[6]\ttrain-rmse:0.334277 \n",
      "[7]\ttrain-rmse:0.331346 \n",
      "[8]\ttrain-rmse:0.328961 \n",
      "[9]\ttrain-rmse:0.327389 \n",
      "[10]\ttrain-rmse:0.325895 \n",
      "[1]\ttrain-rmse:0.426380 \n",
      "[2]\ttrain-rmse:0.383778 \n",
      "[3]\ttrain-rmse:0.359984 \n",
      "[4]\ttrain-rmse:0.346575 \n",
      "[5]\ttrain-rmse:0.338741 \n",
      "[6]\ttrain-rmse:0.334221 \n",
      "[7]\ttrain-rmse:0.330786 \n",
      "[8]\ttrain-rmse:0.328465 \n",
      "[9]\ttrain-rmse:0.326777 \n",
      "[10]\ttrain-rmse:0.325111 \n",
      "[1]\ttrain-rmse:0.425998 \n",
      "[2]\ttrain-rmse:0.383263 \n",
      "[3]\ttrain-rmse:0.359471 \n",
      "[4]\ttrain-rmse:0.345914 \n",
      "[5]\ttrain-rmse:0.337961 \n",
      "[6]\ttrain-rmse:0.332644 \n",
      "[7]\ttrain-rmse:0.329619 \n",
      "[8]\ttrain-rmse:0.327107 \n",
      "[9]\ttrain-rmse:0.325516 \n",
      "[10]\ttrain-rmse:0.323990 \n",
      "[1]\ttrain-rmse:0.426373 \n",
      "[2]\ttrain-rmse:0.383740 \n",
      "[3]\ttrain-rmse:0.360277 \n",
      "[4]\ttrain-rmse:0.346915 \n",
      "[5]\ttrain-rmse:0.339441 \n",
      "[6]\ttrain-rmse:0.334271 \n",
      "[7]\ttrain-rmse:0.331371 \n",
      "[8]\ttrain-rmse:0.329172 \n",
      "[9]\ttrain-rmse:0.327016 \n",
      "[10]\ttrain-rmse:0.325439 \n",
      "[1]\ttrain-rmse:0.425948 \n",
      "[2]\ttrain-rmse:0.383025 \n",
      "[3]\ttrain-rmse:0.359437 \n",
      "[4]\ttrain-rmse:0.345972 \n",
      "[5]\ttrain-rmse:0.338214 \n",
      "[6]\ttrain-rmse:0.332967 \n",
      "[7]\ttrain-rmse:0.329693 \n",
      "[8]\ttrain-rmse:0.327476 \n",
      "[9]\ttrain-rmse:0.325846 \n",
      "[10]\ttrain-rmse:0.323798 \n",
      "[1]\ttrain-rmse:0.426010 \n",
      "[2]\ttrain-rmse:0.383340 \n",
      "[3]\ttrain-rmse:0.359713 \n",
      "[4]\ttrain-rmse:0.346483 \n",
      "[5]\ttrain-rmse:0.338380 \n",
      "[6]\ttrain-rmse:0.333484 \n",
      "[7]\ttrain-rmse:0.330368 \n",
      "[8]\ttrain-rmse:0.327999 \n",
      "[9]\ttrain-rmse:0.326021 \n",
      "[10]\ttrain-rmse:0.324651 \n"
     ]
    },
    {
     "data": {
      "text/html": [
       "<dl>\n",
       "\t<dt>$Fold01</dt>\n",
       "\t\t<dd>0.844287469287469</dd>\n",
       "\t<dt>$Fold02</dt>\n",
       "\t\t<dd>0.845823095823096</dd>\n",
       "\t<dt>$Fold03</dt>\n",
       "\t\t<dd>0.831081081081081</dd>\n",
       "\t<dt>$Fold04</dt>\n",
       "\t\t<dd>0.8360454405895</dd>\n",
       "\t<dt>$Fold05</dt>\n",
       "\t\t<dd>0.838759213759214</dd>\n",
       "\t<dt>$Fold06</dt>\n",
       "\t\t<dd>0.842137592137592</dd>\n",
       "\t<dt>$Fold07</dt>\n",
       "\t\t<dd>0.836916461916462</dd>\n",
       "\t<dt>$Fold08</dt>\n",
       "\t\t<dd>0.838759213759214</dd>\n",
       "\t<dt>$Fold09</dt>\n",
       "\t\t<dd>0.838759213759214</dd>\n",
       "\t<dt>$Fold10</dt>\n",
       "\t\t<dd>0.835995085995086</dd>\n",
       "</dl>\n"
      ],
      "text/latex": [
       "\\begin{description}\n",
       "\\item[\\$Fold01] 0.844287469287469\n",
       "\\item[\\$Fold02] 0.845823095823096\n",
       "\\item[\\$Fold03] 0.831081081081081\n",
       "\\item[\\$Fold04] 0.8360454405895\n",
       "\\item[\\$Fold05] 0.838759213759214\n",
       "\\item[\\$Fold06] 0.842137592137592\n",
       "\\item[\\$Fold07] 0.836916461916462\n",
       "\\item[\\$Fold08] 0.838759213759214\n",
       "\\item[\\$Fold09] 0.838759213759214\n",
       "\\item[\\$Fold10] 0.835995085995086\n",
       "\\end{description}\n"
      ],
      "text/markdown": [
       "$Fold01\n",
       ":   0.844287469287469\n",
       "$Fold02\n",
       ":   0.845823095823096\n",
       "$Fold03\n",
       ":   0.831081081081081\n",
       "$Fold04\n",
       ":   0.8360454405895\n",
       "$Fold05\n",
       ":   0.838759213759214\n",
       "$Fold06\n",
       ":   0.842137592137592\n",
       "$Fold07\n",
       ":   0.836916461916462\n",
       "$Fold08\n",
       ":   0.838759213759214\n",
       "$Fold09\n",
       ":   0.838759213759214\n",
       "$Fold10\n",
       ":   0.835995085995086\n",
       "\n",
       "\n"
      ],
      "text/plain": [
       "$Fold01\n",
       "[1] 0.8442875\n",
       "\n",
       "$Fold02\n",
       "[1] 0.8458231\n",
       "\n",
       "$Fold03\n",
       "[1] 0.8310811\n",
       "\n",
       "$Fold04\n",
       "[1] 0.8360454\n",
       "\n",
       "$Fold05\n",
       "[1] 0.8387592\n",
       "\n",
       "$Fold06\n",
       "[1] 0.8421376\n",
       "\n",
       "$Fold07\n",
       "[1] 0.8369165\n",
       "\n",
       "$Fold08\n",
       "[1] 0.8387592\n",
       "\n",
       "$Fold09\n",
       "[1] 0.8387592\n",
       "\n",
       "$Fold10\n",
       "[1] 0.8359951\n"
      ]
     },
     "metadata": {},
     "output_type": "display_data"
    },
    {
     "data": {
      "text/html": [
       "0.838856386810793"
      ],
      "text/latex": [
       "0.838856386810793"
      ],
      "text/markdown": [
       "0.838856386810793"
      ],
      "text/plain": [
       "[1] 0.8388564"
      ]
     },
     "metadata": {},
     "output_type": "display_data"
    }
   ],
   "source": [
    "# -------------------------\n",
    "# Including capital.gain and capital.loss\n",
    "# -------------------------\n",
    "\n",
    "# Applying k-Fold Cross Validation to XGBoost\n",
    "folds = createFolds(training_set$class, k = 10)\n",
    "cv = lapply(folds, function(x) {\n",
    "  training_fold = training_set[-x, ]\n",
    "  test_fold = training_set[x, ]\n",
    "  classifier = xgboost(data = as.matrix(training_fold[-14]), label = training_fold$class, nrounds = 10)\n",
    "  y_pred = predict(classifier, newdata = as.matrix(test_fold[-14]))\n",
    "  y_pred = (y_pred >= 0.5)\n",
    "  cm = table(test_fold[, 14], y_pred)\n",
    "  accuracy = (cm[1,1] + cm[2,2]) / (cm[1,1] + cm[2,2] + cm[1,2] + cm[2,1])\n",
    "  return(accuracy)\n",
    "})\n",
    "average_accuracy = mean(as.numeric(cv))\n",
    "cv\n",
    "average_accuracy    # 0.8630877\n",
    "\n",
    "# -------------------------\n",
    "# Excluding capital.gain and capital.loss\n",
    "# -------------------------\n",
    "\n",
    "# Removing capital.gain and capital.loss variables\n",
    "training_set2 <- subset(training_set, select = -c(capital.gain, capital.loss))\n",
    "test_set2 <- subset(test_set, select = -c(capital.gain, capital.loss))\n",
    "\n",
    "# Applying k-Fold Cross Validation to XGBoost\n",
    "folds = createFolds(training_set2$class, k = 10)\n",
    "cv = lapply(folds, function(x) {\n",
    "  training_fold = training_set2[-x, ]\n",
    "  test_fold = training_set2[x, ]\n",
    "  classifier = xgboost(data = as.matrix(training_fold[-12]), label = training_fold$class, nrounds = 10)\n",
    "  y_pred = predict(classifier, newdata = as.matrix(test_fold[-12]))\n",
    "  y_pred = (y_pred >= 0.5)\n",
    "  cm = table(test_fold[, 12], y_pred)\n",
    "  accuracy = (cm[1,1] + cm[2,2]) / (cm[1,1] + cm[2,2] + cm[1,2] + cm[2,1])\n",
    "  return(accuracy)\n",
    "})\n",
    "average_accuracy = mean(as.numeric(cv))\n",
    "cv\n",
    "average_accuracy    # 0.8386104"
   ]
  },
  {
   "cell_type": "markdown",
   "id": "c8bcc1f7",
   "metadata": {},
   "source": [
    "Even though capital.gain and capital.loss contain majority value '0', it seems that where non zero values are present, some learning can still be provided, as including capital variables improved the average accuracy of 10 cross validations.\n",
    "\n",
    "Returning to datasets that include capital.gain and capital.loss, I will be comparing k-fold cross validations of XGBoost and Kernel SVM, along with a standard Random Forest method. It is my understanding that Random Forest does not require cross validation, as it is built into the method."
   ]
  },
  {
   "cell_type": "code",
   "execution_count": 5,
   "id": "d97545a5",
   "metadata": {
    "scrolled": true
   },
   "outputs": [
    {
     "name": "stdout",
     "output_type": "stream",
     "text": [
      "[1]\ttrain-rmse:0.419164 \n",
      "[2]\ttrain-rmse:0.371802 \n",
      "[3]\ttrain-rmse:0.344978 \n",
      "[4]\ttrain-rmse:0.330102 \n",
      "[5]\ttrain-rmse:0.320247 \n",
      "[6]\ttrain-rmse:0.314085 \n",
      "[7]\ttrain-rmse:0.310325 \n",
      "[8]\ttrain-rmse:0.307360 \n",
      "[9]\ttrain-rmse:0.304581 \n",
      "[10]\ttrain-rmse:0.302138 \n",
      "[1]\ttrain-rmse:0.418866 \n",
      "[2]\ttrain-rmse:0.370451 \n",
      "[3]\ttrain-rmse:0.343602 \n",
      "[4]\ttrain-rmse:0.327955 \n",
      "[5]\ttrain-rmse:0.318303 \n",
      "[6]\ttrain-rmse:0.311670 \n",
      "[7]\ttrain-rmse:0.307688 \n",
      "[8]\ttrain-rmse:0.305169 \n",
      "[9]\ttrain-rmse:0.302490 \n",
      "[10]\ttrain-rmse:0.300577 \n",
      "[1]\ttrain-rmse:0.419436 \n",
      "[2]\ttrain-rmse:0.371292 \n",
      "[3]\ttrain-rmse:0.344531 \n",
      "[4]\ttrain-rmse:0.328662 \n",
      "[5]\ttrain-rmse:0.319402 \n",
      "[6]\ttrain-rmse:0.313643 \n",
      "[7]\ttrain-rmse:0.309272 \n",
      "[8]\ttrain-rmse:0.306165 \n",
      "[9]\ttrain-rmse:0.304051 \n",
      "[10]\ttrain-rmse:0.302007 \n",
      "[1]\ttrain-rmse:0.419311 \n",
      "[2]\ttrain-rmse:0.371036 \n",
      "[3]\ttrain-rmse:0.344101 \n",
      "[4]\ttrain-rmse:0.329092 \n",
      "[5]\ttrain-rmse:0.319360 \n",
      "[6]\ttrain-rmse:0.313338 \n",
      "[7]\ttrain-rmse:0.309282 \n",
      "[8]\ttrain-rmse:0.305906 \n",
      "[9]\ttrain-rmse:0.303352 \n",
      "[10]\ttrain-rmse:0.300795 \n",
      "[1]\ttrain-rmse:0.418981 \n",
      "[2]\ttrain-rmse:0.370322 \n",
      "[3]\ttrain-rmse:0.343596 \n",
      "[4]\ttrain-rmse:0.328108 \n",
      "[5]\ttrain-rmse:0.318562 \n",
      "[6]\ttrain-rmse:0.312937 \n",
      "[7]\ttrain-rmse:0.308922 \n",
      "[8]\ttrain-rmse:0.306281 \n",
      "[9]\ttrain-rmse:0.303715 \n",
      "[10]\ttrain-rmse:0.301541 \n",
      "[1]\ttrain-rmse:0.418825 \n",
      "[2]\ttrain-rmse:0.371164 \n",
      "[3]\ttrain-rmse:0.344040 \n",
      "[4]\ttrain-rmse:0.328409 \n",
      "[5]\ttrain-rmse:0.318777 \n",
      "[6]\ttrain-rmse:0.312762 \n",
      "[7]\ttrain-rmse:0.308175 \n",
      "[8]\ttrain-rmse:0.305152 \n",
      "[9]\ttrain-rmse:0.302614 \n",
      "[10]\ttrain-rmse:0.300491 \n",
      "[1]\ttrain-rmse:0.418176 \n",
      "[2]\ttrain-rmse:0.370542 \n",
      "[3]\ttrain-rmse:0.343085 \n",
      "[4]\ttrain-rmse:0.327287 \n",
      "[5]\ttrain-rmse:0.317451 \n",
      "[6]\ttrain-rmse:0.311866 \n",
      "[7]\ttrain-rmse:0.307906 \n",
      "[8]\ttrain-rmse:0.304664 \n",
      "[9]\ttrain-rmse:0.302437 \n",
      "[10]\ttrain-rmse:0.300510 \n",
      "[1]\ttrain-rmse:0.419041 \n",
      "[2]\ttrain-rmse:0.371505 \n",
      "[3]\ttrain-rmse:0.344622 \n",
      "[4]\ttrain-rmse:0.329157 \n",
      "[5]\ttrain-rmse:0.319511 \n",
      "[6]\ttrain-rmse:0.313401 \n",
      "[7]\ttrain-rmse:0.309581 \n",
      "[8]\ttrain-rmse:0.306746 \n",
      "[9]\ttrain-rmse:0.304341 \n",
      "[10]\ttrain-rmse:0.302286 \n",
      "[1]\ttrain-rmse:0.418946 \n",
      "[2]\ttrain-rmse:0.371616 \n",
      "[3]\ttrain-rmse:0.343941 \n",
      "[4]\ttrain-rmse:0.328802 \n",
      "[5]\ttrain-rmse:0.320219 \n",
      "[6]\ttrain-rmse:0.313422 \n",
      "[7]\ttrain-rmse:0.309367 \n",
      "[8]\ttrain-rmse:0.305656 \n",
      "[9]\ttrain-rmse:0.303096 \n",
      "[10]\ttrain-rmse:0.301133 \n",
      "[1]\ttrain-rmse:0.418572 \n",
      "[2]\ttrain-rmse:0.369685 \n",
      "[3]\ttrain-rmse:0.343388 \n",
      "[4]\ttrain-rmse:0.327288 \n",
      "[5]\ttrain-rmse:0.317584 \n",
      "[6]\ttrain-rmse:0.311797 \n",
      "[7]\ttrain-rmse:0.307851 \n",
      "[8]\ttrain-rmse:0.304827 \n",
      "[9]\ttrain-rmse:0.302542 \n",
      "[10]\ttrain-rmse:0.300466 \n"
     ]
    },
    {
     "data": {
      "text/html": [
       "<dl>\n",
       "\t<dt>$Fold01</dt>\n",
       "\t\t<dd>0.872235872235872</dd>\n",
       "\t<dt>$Fold02</dt>\n",
       "\t\t<dd>0.860257985257985</dd>\n",
       "\t<dt>$Fold03</dt>\n",
       "\t\t<dd>0.875307125307125</dd>\n",
       "\t<dt>$Fold04</dt>\n",
       "\t\t<dd>0.872850122850123</dd>\n",
       "\t<dt>$Fold05</dt>\n",
       "\t\t<dd>0.858722358722359</dd>\n",
       "\t<dt>$Fold06</dt>\n",
       "\t\t<dd>0.860257985257985</dd>\n",
       "\t<dt>$Fold07</dt>\n",
       "\t\t<dd>0.857844642308873</dd>\n",
       "\t<dt>$Fold08</dt>\n",
       "\t\t<dd>0.863022113022113</dd>\n",
       "\t<dt>$Fold09</dt>\n",
       "\t\t<dd>0.869471744471744</dd>\n",
       "\t<dt>$Fold10</dt>\n",
       "\t\t<dd>0.844287469287469</dd>\n",
       "</dl>\n"
      ],
      "text/latex": [
       "\\begin{description}\n",
       "\\item[\\$Fold01] 0.872235872235872\n",
       "\\item[\\$Fold02] 0.860257985257985\n",
       "\\item[\\$Fold03] 0.875307125307125\n",
       "\\item[\\$Fold04] 0.872850122850123\n",
       "\\item[\\$Fold05] 0.858722358722359\n",
       "\\item[\\$Fold06] 0.860257985257985\n",
       "\\item[\\$Fold07] 0.857844642308873\n",
       "\\item[\\$Fold08] 0.863022113022113\n",
       "\\item[\\$Fold09] 0.869471744471744\n",
       "\\item[\\$Fold10] 0.844287469287469\n",
       "\\end{description}\n"
      ],
      "text/markdown": [
       "$Fold01\n",
       ":   0.872235872235872\n",
       "$Fold02\n",
       ":   0.860257985257985\n",
       "$Fold03\n",
       ":   0.875307125307125\n",
       "$Fold04\n",
       ":   0.872850122850123\n",
       "$Fold05\n",
       ":   0.858722358722359\n",
       "$Fold06\n",
       ":   0.860257985257985\n",
       "$Fold07\n",
       ":   0.857844642308873\n",
       "$Fold08\n",
       ":   0.863022113022113\n",
       "$Fold09\n",
       ":   0.869471744471744\n",
       "$Fold10\n",
       ":   0.844287469287469\n",
       "\n",
       "\n"
      ],
      "text/plain": [
       "$Fold01\n",
       "[1] 0.8722359\n",
       "\n",
       "$Fold02\n",
       "[1] 0.860258\n",
       "\n",
       "$Fold03\n",
       "[1] 0.8753071\n",
       "\n",
       "$Fold04\n",
       "[1] 0.8728501\n",
       "\n",
       "$Fold05\n",
       "[1] 0.8587224\n",
       "\n",
       "$Fold06\n",
       "[1] 0.860258\n",
       "\n",
       "$Fold07\n",
       "[1] 0.8578446\n",
       "\n",
       "$Fold08\n",
       "[1] 0.8630221\n",
       "\n",
       "$Fold09\n",
       "[1] 0.8694717\n",
       "\n",
       "$Fold10\n",
       "[1] 0.8442875\n"
      ]
     },
     "metadata": {},
     "output_type": "display_data"
    },
    {
     "name": "stderr",
     "output_type": "stream",
     "text": [
      "Warning message in randomForest.default(x = training_set[-14], y = training_set$class, :\n",
      "“The response has five or fewer unique values.  Are you sure you want to do regression?”\n"
     ]
    },
    {
     "data": {
      "text/plain": [
       "   rf_y_pred\n",
       "    FALSE  TRUE\n",
       "  0 11237  1198\n",
       "  1  1793  2053"
      ]
     },
     "metadata": {},
     "output_type": "display_data"
    },
    {
     "data": {
      "text/html": [
       "0.863425741872165"
      ],
      "text/latex": [
       "0.863425741872165"
      ],
      "text/markdown": [
       "0.863425741872165"
      ],
      "text/plain": [
       "[1] 0.8634257"
      ]
     },
     "metadata": {},
     "output_type": "display_data"
    },
    {
     "data": {
      "text/html": [
       "0.816288925741662"
      ],
      "text/latex": [
       "0.816288925741662"
      ],
      "text/markdown": [
       "0.816288925741662"
      ],
      "text/plain": [
       "[1] 0.8162889"
      ]
     },
     "metadata": {},
     "output_type": "display_data"
    }
   ],
   "source": [
    "# -------------------------\n",
    "# Returning to including capital.gain and capital.loss\n",
    "# -------------------------\n",
    "\n",
    "# Applying k-Fold Cross Validation to XGBoost\n",
    "#-------------------------------\n",
    "folds = createFolds(training_set$class, k = 10)\n",
    "xgb_cv = lapply(folds, function(x) {\n",
    "  training_fold = training_set[-x, ]\n",
    "  test_fold = training_set[x, ]\n",
    "  classifier = xgboost(data = as.matrix(training_fold[-14]), label = training_fold$class, nrounds = 10)\n",
    "  y_pred = predict(classifier, newdata = as.matrix(test_fold[-14]))\n",
    "  y_pred = (y_pred >= 0.5)\n",
    "  cm = table(test_fold[, 14], y_pred)\n",
    "  accuracy = (cm[1,1] + cm[2,2]) / (cm[1,1] + cm[2,2] + cm[1,2] + cm[2,1])\n",
    "  return(accuracy)\n",
    "})\n",
    "xgb_average_accuracy = mean(as.numeric(xgb_cv))\n",
    "#sanity check of cv\n",
    "xgb_cv\n",
    "\n",
    "# Applying Random Forest Prediction (No need for k-Fold, it's built in)\n",
    "#------------------------------\n",
    "rf_classifier = randomForest(x = training_set[-14],\n",
    "                             y = training_set$class,\n",
    "                             ntree = 10)\n",
    "# Predicting the Test set results\n",
    "rf_y_pred = predict(rf_classifier, newdata = as.matrix(test_set[-14]))\n",
    "rf_y_pred = (rf_y_pred >= 0.5)\n",
    "\n",
    "# Making the Confusion Matrix\n",
    "rf_cm = table(test_set[, 14], rf_y_pred)\n",
    "#sanity check of cm\n",
    "rf_cm\n",
    "rf_accuracy = (rf_cm[1,1] + rf_cm[2,2]) / (rf_cm[1,1] + rf_cm[2,2] + rf_cm[1,2] + rf_cm[2,1])\n",
    "\n",
    "# Applying k-Fold Cross Validation to Kernel SVM\n",
    "# This section will be commented out because it takes 10+ minutes to run,\n",
    "# however the accuracy value was prerecorded and noted below\n",
    "#-------------------------------\n",
    "    # folds = createFolds(training_set$class, k = 10)\n",
    "    # svm_cv = lapply(folds, function(x) {\n",
    "    #   training_fold = training_set[-x, ]\n",
    "    #   test_fold = training_set[x, ]\n",
    "    #   classifier = svm(formula = class ~ .,\n",
    "    #                    data = training_fold,\n",
    "    #                    type = 'C-classification',\n",
    "    #                    kernel = 'radial')\n",
    "    #   y_pred = predict(classifier, newdata = test_fold[-14])\n",
    "    #   cm = table(test_fold[, 14], y_pred)\n",
    "    #   accuracy = (cm[1,1] + cm[2,2]) / (cm[1,1] + cm[2,2] + cm[1,2] + cm[2,1])\n",
    "    #   return(accuracy)\n",
    "    # })\n",
    "    # svm_average_accuracy = mean(as.numeric(svm_cv))\n",
    "    # #sanity check of cv\n",
    "    # svm_cv\n",
    "\n",
    "#comparing accuracies of the different algorithms.\n",
    "xgb_average_accuracy    # 0.8627501\n",
    "rf_accuracy             # 0.8353737\n",
    "# svm_average_accuracy    # 0.8482847\n",
    "# Although the accuracy value is near that of 'xgb_average_accuracy', the processing time is significantly longer. \n",
    "# Moving forward with XGBoost"
   ]
  },
  {
   "cell_type": "markdown",
   "id": "035c74f8",
   "metadata": {},
   "source": [
    "The accuracy values are:\n",
    "* k-FCV XGBoost: 86.275%\n",
    "* Random Forest: 83.537%\n",
    "* k-FCV Kernel SVM: 84.285%\n",
    "\n",
    "The XG Boost algorithm has the best accuracy, and therefore will be used acquire a confusion matrix and AUROC curve. AUROC curves can be created quickly, so I will also compare with the Random Forest algorithm. It is worth noting that Kernel SVM took a over 10 minutes to run, which is why I will be avoiding collecting a single run confusion matrix."
   ]
  },
  {
   "cell_type": "code",
   "execution_count": 6,
   "id": "301bbe88",
   "metadata": {
    "scrolled": true
   },
   "outputs": [
    {
     "name": "stdout",
     "output_type": "stream",
     "text": [
      "[1]\ttrain-rmse:0.419097 \n",
      "[2]\ttrain-rmse:0.370599 \n",
      "[3]\ttrain-rmse:0.343747 \n",
      "[4]\ttrain-rmse:0.328332 \n",
      "[5]\ttrain-rmse:0.318482 \n",
      "[6]\ttrain-rmse:0.312683 \n",
      "[7]\ttrain-rmse:0.308881 \n",
      "[8]\ttrain-rmse:0.306245 \n",
      "[9]\ttrain-rmse:0.303649 \n",
      "[10]\ttrain-rmse:0.301772 \n"
     ]
    },
    {
     "data": {
      "text/plain": [
       "   xgb_y_pred\n",
       "    FALSE  TRUE\n",
       "  0 11912   523\n",
       "  1  1879  1967"
      ]
     },
     "metadata": {},
     "output_type": "display_data"
    },
    {
     "data": {
      "text/html": [
       "0.852466064738038"
      ],
      "text/latex": [
       "0.852466064738038"
      ],
      "text/markdown": [
       "0.852466064738038"
      ],
      "text/plain": [
       "[1] 0.8524661"
      ]
     },
     "metadata": {},
     "output_type": "display_data"
    }
   ],
   "source": [
    "# Single XGBoost to get a confusion matrix\n",
    "# -------------------------\n",
    "library(xgboost)\n",
    "xgb_classifier = xgboost(data = as.matrix(training_set[-14]),\n",
    "                         label = training_set$class,\n",
    "                         nrounds = 10)\n",
    "# Predicting the Test set results\n",
    "xgb_y_pred = predict(xgb_classifier, newdata = as.matrix(test_set[-14]))\n",
    "xgb_y_pred = (xgb_y_pred >= 0.5)\n",
    "\n",
    "# Making the Confusion Matrix\n",
    "xgb_cm = table(test_set[, 14], xgb_y_pred)\n",
    "xgb_accuracy = (xgb_cm[1,1] + xgb_cm[2,2]) / (xgb_cm[1,1] + xgb_cm[2,2] + xgb_cm[1,2] + xgb_cm[2,1])\n",
    "xgb_cm\n",
    "xgb_accuracy    # 0.8524661"
   ]
  },
  {
   "cell_type": "markdown",
   "id": "0dbc48da",
   "metadata": {},
   "source": [
    "Looking at the confusion matrix, imediately we can see that the True Positive and True Negative values are greater than the False Positive and False Negative values, which is good. However, the values for False Positive and False Negative are still significant. A majority of the possible independent variable combinations will lead to a class variable value of '<=50K'.\n",
    "\n",
    "The accuracy value of this single fold algorithm is 85.247%, which is not bad, but this algorithm could possibly be improved by having more accurate data recorded for indepedent variables 'capital.gain' and 'capital.loss'.\n",
    "\n",
    "Lastly we will calculate the Area Under the Receiver Operating Characteristic (AUROC). "
   ]
  },
  {
   "cell_type": "code",
   "execution_count": 7,
   "id": "dcaf35b1",
   "metadata": {
    "scrolled": true
   },
   "outputs": [
    {
     "name": "stderr",
     "output_type": "stream",
     "text": [
      "Setting levels: control = 0, case = 1\n",
      "\n",
      "Setting direction: controls < cases\n",
      "\n"
     ]
    },
    {
     "data": {
      "text/plain": [
       "\n",
       "Call:\n",
       "roc.default(response = test_set[, 14], predictor = as.integer(xgb_y_pred),     percent = TRUE, plot = TRUE, print.auc = TRUE, col = \"green\",     lwd = 4, main = \"XG Boost vs RF ROC Curve\")\n",
       "\n",
       "Data: as.integer(xgb_y_pred) in 12435 controls (test_set[, 14] 0) < 3846 cases (test_set[, 14] 1).\n",
       "Area under the curve: 73.47%"
      ]
     },
     "metadata": {},
     "output_type": "display_data"
    },
    {
     "name": "stderr",
     "output_type": "stream",
     "text": [
      "Setting levels: control = 0, case = 1\n",
      "\n",
      "Setting direction: controls < cases\n",
      "\n"
     ]
    },
    {
     "data": {
      "text/html": [
       "0.734690876175457"
      ],
      "text/latex": [
       "0.734690876175457"
      ],
      "text/markdown": [
       "0.734690876175457"
      ],
      "text/plain": [
       "Area under the curve: 0.7347"
      ]
     },
     "metadata": {},
     "output_type": "display_data"
    },
    {
     "name": "stderr",
     "output_type": "stream",
     "text": [
      "Setting levels: control = 0, case = 1\n",
      "\n",
      "Setting direction: controls < cases\n",
      "\n"
     ]
    },
    {
     "data": {
      "text/plain": [
       "\n",
       "Call:\n",
       "roc.default(response = test_set[, 14], predictor = as.integer(rf_y_pred),     percent = TRUE, plot = TRUE, print.auc = TRUE, col = \"blue\",     lwd = 4, print.auc.y = 45, add = TRUE)\n",
       "\n",
       "Data: as.integer(rf_y_pred) in 12435 controls (test_set[, 14] 0) < 3846 cases (test_set[, 14] 1).\n",
       "Area under the curve: 71.87%"
      ]
     },
     "metadata": {},
     "output_type": "display_data"
    },
    {
     "data": {
      "image/png": "[encoded data removed]",
      "text/plain": [
       "Plot with title “XG Boost vs RF ROC Curve”"
      ]
     },
     "metadata": {
      "image/png": {
       "height": 420,
       "width": 420
      }
     },
     "output_type": "display_data"
    }
   ],
   "source": [
    "# Plotting and calculating AUROC for XGBoost\n",
    "par(pty = 's')\n",
    "roc(test_set[, 14], as.integer(xgb_y_pred), percent = TRUE, plot = TRUE, print.auc = TRUE, col = 'green', lwd = 4, main = 'XG Boost vs RF ROC Curve')\n",
    "# Confirming AUC value\n",
    "auc(test_set$class, as.integer(xgb_y_pred))\n",
    "\n",
    "# Plotting and calculating AUROC of RF for comparison\n",
    "roc(test_set[, 14], as.integer(rf_y_pred), percent = TRUE, plot = TRUE, print.auc = TRUE, col = 'blue', lwd = 4, print.auc.y = 45, add = TRUE)\n",
    "legend(\"bottomright\",legend=c(\"XGBoost\",\"Random Forest\"),col=c(\"green\",\"blue\"),lwd=4)"
   ]
  },
  {
   "cell_type": "markdown",
   "id": "afc56973",
   "metadata": {},
   "source": [
    "The XGBoost AUROC curve is a slight improvement over the random forest AUROC curve. Both algorithms have good discriminatory ability, having AUC values greater than 0.7. The XGBoost algorithm has an AUC value of 0.735, meaning that 73.5% of the time, the model will correctly assign a salary range to a randomly selecting individual when knowing all the values of that individual's independent variables. However, having a value above 0.8 would mean the algorithm is very solid, and should be the target for an appropriate algorithm. Again, I feel like having more notable values than '0' for 'capital.gain' and 'capital.loss' would improve the algorithm, maybe getting the AUC value above 0.8."
   ]
  }
 ],
 "metadata": {
  "kernelspec": {
   "display_name": "R",
   "language": "R",
   "name": "ir"
  },
  "language_info": {
   "codemirror_mode": "r",
   "file_extension": ".r",
   "mimetype": "text/x-r-source",
   "name": "R",
   "pygments_lexer": "r",
   "version": "4.1.2"
  }
 },
 "nbformat": 4,
 "nbformat_minor": 5
}
