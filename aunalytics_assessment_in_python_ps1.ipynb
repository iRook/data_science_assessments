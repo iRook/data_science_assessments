{
 "cells": [
  {
   "cell_type": "markdown",
   "id": "ca29c3b4",
   "metadata": {},
   "source": [
    "---\n",
    "### Aunalytics Assessment In Python // Problem Statement #1\n",
    "\n",
    "By: Cody Culver // \n",
    "Date: 3/28/2022\n",
    "\n",
    "---"
   ]
  },
  {
   "cell_type": "markdown",
   "id": "fbe82b0a",
   "metadata": {},
   "source": [
    "#### Problem Statement\n",
    "The prediction task is to determine whether\n",
    "a person makes over 50K a year. Explain the\n",
    "performance of the model using accuracy,\n",
    "AUROC curve and confusion matrix. Feel\n",
    "free to add any other metric you see fit."
   ]
  },
  {
   "cell_type": "markdown",
   "id": "96c41ae9",
   "metadata": {},
   "source": [
    "#### Setting Up Analysis Environment\n",
    "setting up the R environment by loading the necessary packages and datasets."
   ]
  },
  {
   "cell_type": "code",
   "execution_count": 1,
   "id": "99005bb6",
   "metadata": {
    "scrolled": false
   },
   "outputs": [],
   "source": [
    "# Library imports\n",
    "import numpy as np\n",
    "import matplotlib.pyplot as plt\n",
    "import pandas as pd\n",
    "\n",
    "# This was included after completing the assessment. It is to hide all warnings for package updates, and cleans up the report.\n",
    "import warnings\n",
    "warnings.filterwarnings(\"ignore\")\n",
    "\n",
    "# Importing the datasets\n",
    "training_set = pd.read_csv('au_train.csv')\n",
    "test_set = pd.read_csv('au_test.csv')"
   ]
  },
  {
   "cell_type": "markdown",
   "id": "52f3b947",
   "metadata": {},
   "source": [
    "#### Data Cleaning and Exploration\n",
    "Going through typical data investigations via overviews, null checks, metadata confirmation, trimming, and sanity checks."
   ]
  },
  {
   "cell_type": "code",
   "execution_count": 2,
   "id": "c5830b90",
   "metadata": {},
   "outputs": [
    {
     "data": {
      "text/html": [
       "<div>\n",
       "<style scoped>\n",
       "    .dataframe tbody tr th:only-of-type {\n",
       "        vertical-align: middle;\n",
       "    }\n",
       "\n",
       "    .dataframe tbody tr th {\n",
       "        vertical-align: top;\n",
       "    }\n",
       "\n",
       "    .dataframe thead th {\n",
       "        text-align: right;\n",
       "    }\n",
       "</style>\n",
       "<table border=\"1\" class=\"dataframe\">\n",
       "  <thead>\n",
       "    <tr style=\"text-align: right;\">\n",
       "      <th></th>\n",
       "      <th>age</th>\n",
       "      <th>workclass</th>\n",
       "      <th>fnlwgt</th>\n",
       "      <th>education</th>\n",
       "      <th>education-num</th>\n",
       "      <th>marital-status</th>\n",
       "      <th>occupation</th>\n",
       "      <th>relationship</th>\n",
       "      <th>race</th>\n",
       "      <th>sex</th>\n",
       "      <th>capital-gain</th>\n",
       "      <th>capital-loss</th>\n",
       "      <th>hours-per-week</th>\n",
       "      <th>native-country</th>\n",
       "      <th>class</th>\n",
       "    </tr>\n",
       "  </thead>\n",
       "  <tbody>\n",
       "    <tr>\n",
       "      <th>0</th>\n",
       "      <td>39</td>\n",
       "      <td>State-gov</td>\n",
       "      <td>77516</td>\n",
       "      <td>Bachelors</td>\n",
       "      <td>13</td>\n",
       "      <td>Never-married</td>\n",
       "      <td>Adm-clerical</td>\n",
       "      <td>Not-in-family</td>\n",
       "      <td>White</td>\n",
       "      <td>Male</td>\n",
       "      <td>2174</td>\n",
       "      <td>0</td>\n",
       "      <td>40</td>\n",
       "      <td>United-States</td>\n",
       "      <td>&lt;=50K</td>\n",
       "    </tr>\n",
       "    <tr>\n",
       "      <th>1</th>\n",
       "      <td>50</td>\n",
       "      <td>Self-emp-not-inc</td>\n",
       "      <td>83311</td>\n",
       "      <td>Bachelors</td>\n",
       "      <td>13</td>\n",
       "      <td>Married-civ-spouse</td>\n",
       "      <td>Exec-managerial</td>\n",
       "      <td>Husband</td>\n",
       "      <td>White</td>\n",
       "      <td>Male</td>\n",
       "      <td>0</td>\n",
       "      <td>0</td>\n",
       "      <td>13</td>\n",
       "      <td>United-States</td>\n",
       "      <td>&lt;=50K</td>\n",
       "    </tr>\n",
       "    <tr>\n",
       "      <th>2</th>\n",
       "      <td>38</td>\n",
       "      <td>Private</td>\n",
       "      <td>215646</td>\n",
       "      <td>HS-grad</td>\n",
       "      <td>9</td>\n",
       "      <td>Divorced</td>\n",
       "      <td>Handlers-cleaners</td>\n",
       "      <td>Not-in-family</td>\n",
       "      <td>White</td>\n",
       "      <td>Male</td>\n",
       "      <td>0</td>\n",
       "      <td>0</td>\n",
       "      <td>40</td>\n",
       "      <td>United-States</td>\n",
       "      <td>&lt;=50K</td>\n",
       "    </tr>\n",
       "    <tr>\n",
       "      <th>3</th>\n",
       "      <td>53</td>\n",
       "      <td>Private</td>\n",
       "      <td>234721</td>\n",
       "      <td>11th</td>\n",
       "      <td>7</td>\n",
       "      <td>Married-civ-spouse</td>\n",
       "      <td>Handlers-cleaners</td>\n",
       "      <td>Husband</td>\n",
       "      <td>Black</td>\n",
       "      <td>Male</td>\n",
       "      <td>0</td>\n",
       "      <td>0</td>\n",
       "      <td>40</td>\n",
       "      <td>United-States</td>\n",
       "      <td>&lt;=50K</td>\n",
       "    </tr>\n",
       "    <tr>\n",
       "      <th>4</th>\n",
       "      <td>28</td>\n",
       "      <td>Private</td>\n",
       "      <td>338409</td>\n",
       "      <td>Bachelors</td>\n",
       "      <td>13</td>\n",
       "      <td>Married-civ-spouse</td>\n",
       "      <td>Prof-specialty</td>\n",
       "      <td>Wife</td>\n",
       "      <td>Black</td>\n",
       "      <td>Female</td>\n",
       "      <td>0</td>\n",
       "      <td>0</td>\n",
       "      <td>40</td>\n",
       "      <td>Cuba</td>\n",
       "      <td>&lt;=50K</td>\n",
       "    </tr>\n",
       "  </tbody>\n",
       "</table>\n",
       "</div>"
      ],
      "text/plain": [
       "   age          workclass  fnlwgt   education  education-num  \\\n",
       "0   39          State-gov   77516   Bachelors             13   \n",
       "1   50   Self-emp-not-inc   83311   Bachelors             13   \n",
       "2   38            Private  215646     HS-grad              9   \n",
       "3   53            Private  234721        11th              7   \n",
       "4   28            Private  338409   Bachelors             13   \n",
       "\n",
       "        marital-status          occupation    relationship    race      sex  \\\n",
       "0        Never-married        Adm-clerical   Not-in-family   White     Male   \n",
       "1   Married-civ-spouse     Exec-managerial         Husband   White     Male   \n",
       "2             Divorced   Handlers-cleaners   Not-in-family   White     Male   \n",
       "3   Married-civ-spouse   Handlers-cleaners         Husband   Black     Male   \n",
       "4   Married-civ-spouse      Prof-specialty            Wife   Black   Female   \n",
       "\n",
       "   capital-gain  capital-loss  hours-per-week  native-country   class  \n",
       "0          2174             0              40   United-States   <=50K  \n",
       "1             0             0              13   United-States   <=50K  \n",
       "2             0             0              40   United-States   <=50K  \n",
       "3             0             0              40   United-States   <=50K  \n",
       "4             0             0              40            Cuba   <=50K  "
      ]
     },
     "execution_count": 2,
     "metadata": {},
     "output_type": "execute_result"
    }
   ],
   "source": [
    "training_set.head()"
   ]
  },
  {
   "cell_type": "code",
   "execution_count": 3,
   "id": "88c5ccea",
   "metadata": {},
   "outputs": [
    {
     "name": "stdout",
     "output_type": "stream",
     "text": [
      "<class 'pandas.core.frame.DataFrame'>\n",
      "RangeIndex: 32561 entries, 0 to 32560\n",
      "Data columns (total 15 columns):\n",
      " #   Column          Non-Null Count  Dtype \n",
      "---  ------          --------------  ----- \n",
      " 0   age             32561 non-null  int64 \n",
      " 1   workclass       32561 non-null  object\n",
      " 2   fnlwgt          32561 non-null  int64 \n",
      " 3   education       32561 non-null  object\n",
      " 4   education-num   32561 non-null  int64 \n",
      " 5   marital-status  32561 non-null  object\n",
      " 6   occupation      32561 non-null  object\n",
      " 7   relationship    32561 non-null  object\n",
      " 8   race            32561 non-null  object\n",
      " 9   sex             32561 non-null  object\n",
      " 10  capital-gain    32561 non-null  int64 \n",
      " 11  capital-loss    32561 non-null  int64 \n",
      " 12  hours-per-week  32561 non-null  int64 \n",
      " 13  native-country  32561 non-null  object\n",
      " 14  class           32561 non-null  object\n",
      "dtypes: int64(6), object(9)\n",
      "memory usage: 3.7+ MB\n"
     ]
    }
   ],
   "source": [
    "training_set.info()"
   ]
  },
  {
   "cell_type": "code",
   "execution_count": 4,
   "id": "d3632ad2",
   "metadata": {},
   "outputs": [
    {
     "name": "stdout",
     "output_type": "stream",
     "text": [
      "9\n"
     ]
    }
   ],
   "source": [
    "n=len(training_set['workclass'].unique())\n",
    "print(n)"
   ]
  },
  {
   "cell_type": "code",
   "execution_count": 5,
   "id": "1f01af26",
   "metadata": {},
   "outputs": [
    {
     "name": "stdout",
     "output_type": "stream",
     "text": [
      "16\n"
     ]
    }
   ],
   "source": [
    "n=len(training_set['education'].unique())\n",
    "print(n)"
   ]
  },
  {
   "cell_type": "code",
   "execution_count": 6,
   "id": "6762702a",
   "metadata": {},
   "outputs": [
    {
     "name": "stdout",
     "output_type": "stream",
     "text": [
      "7\n"
     ]
    }
   ],
   "source": [
    "n=len(training_set['marital-status'].unique())\n",
    "print(n)"
   ]
  },
  {
   "cell_type": "code",
   "execution_count": 7,
   "id": "f1395c40",
   "metadata": {},
   "outputs": [
    {
     "name": "stdout",
     "output_type": "stream",
     "text": [
      "15\n"
     ]
    }
   ],
   "source": [
    "n=len(training_set['occupation'].unique())\n",
    "print(n)"
   ]
  },
  {
   "cell_type": "code",
   "execution_count": 8,
   "id": "3034810e",
   "metadata": {},
   "outputs": [
    {
     "name": "stdout",
     "output_type": "stream",
     "text": [
      "6\n"
     ]
    }
   ],
   "source": [
    "n=len(training_set['relationship'].unique())\n",
    "print(n)"
   ]
  },
  {
   "cell_type": "code",
   "execution_count": 9,
   "id": "9b455ef6",
   "metadata": {},
   "outputs": [
    {
     "name": "stdout",
     "output_type": "stream",
     "text": [
      "5\n"
     ]
    }
   ],
   "source": [
    "n=len(training_set['race'].unique())\n",
    "print(n)"
   ]
  },
  {
   "cell_type": "code",
   "execution_count": 10,
   "id": "16a3121c",
   "metadata": {},
   "outputs": [
    {
     "name": "stdout",
     "output_type": "stream",
     "text": [
      "2\n"
     ]
    }
   ],
   "source": [
    "n=len(training_set['sex'].unique())\n",
    "print(n)"
   ]
  },
  {
   "cell_type": "code",
   "execution_count": 11,
   "id": "282a4eec",
   "metadata": {},
   "outputs": [
    {
     "name": "stdout",
     "output_type": "stream",
     "text": [
      "42\n"
     ]
    }
   ],
   "source": [
    "n=len(training_set['native-country'].unique())\n",
    "print(n)"
   ]
  },
  {
   "cell_type": "code",
   "execution_count": 12,
   "id": "7336c134",
   "metadata": {},
   "outputs": [
    {
     "name": "stdout",
     "output_type": "stream",
     "text": [
      "2\n"
     ]
    }
   ],
   "source": [
    "n=len(training_set['class'].unique())\n",
    "print(n)"
   ]
  },
  {
   "cell_type": "code",
   "execution_count": 13,
   "id": "bf11e8c7",
   "metadata": {},
   "outputs": [
    {
     "name": "stdout",
     "output_type": "stream",
     "text": [
      "[' State-gov', ' Self-emp-not-inc', ' Private', ' Private', ' Private', ' Private', ' Private', ' Self-emp-not-inc', ' Private', ' Private']\n"
     ]
    }
   ],
   "source": [
    "# Checking for white spaces\n",
    "listcheck = training_set['workclass'].tolist()\n",
    "print(listcheck[:10])"
   ]
  },
  {
   "cell_type": "code",
   "execution_count": 14,
   "id": "2fa8a70e",
   "metadata": {},
   "outputs": [
    {
     "name": "stdout",
     "output_type": "stream",
     "text": [
      "['State-gov', 'Self-emp-not-inc', 'Private', 'Private', 'Private', 'Private', 'Private', 'Self-emp-not-inc', 'Private', 'Private']\n"
     ]
    }
   ],
   "source": [
    "# Removing white space\n",
    "training_set['workclass'] = training_set['workclass'].str.strip()\n",
    "listcheck = training_set['workclass'].tolist()\n",
    "print(listcheck[:10])"
   ]
  },
  {
   "cell_type": "code",
   "execution_count": 15,
   "id": "221391fa",
   "metadata": {},
   "outputs": [
    {
     "name": "stdout",
     "output_type": "stream",
     "text": [
      "['<=50K', '<=50K', '>50K', '>50K', '<=50K', '<=50K', '<=50K', '>50K', '<=50K', '<=50K']\n",
      "['Private', 'Private', 'Local-gov', 'Private', '?', 'Private', '?', 'Self-emp-not-inc', 'Private', 'Private']\n",
      "['Own-child', 'Husband', 'Husband', 'Husband', 'Own-child', 'Not-in-family', 'Unmarried', 'Husband', 'Unmarried', 'Husband']\n"
     ]
    }
   ],
   "source": [
    "# Removing white spaces and extra characters of training set and test set\n",
    "training_set['education'] = training_set['education'].str.strip()\n",
    "training_set['marital-status'] = training_set['marital-status'].str.strip()\n",
    "training_set['occupation'] = training_set['occupation'].str.strip()\n",
    "training_set['relationship'] = training_set['relationship'].str.strip()\n",
    "training_set['race'] = training_set['race'].str.strip()\n",
    "training_set['sex'] = training_set['sex'].str.strip()\n",
    "training_set['native-country'] = training_set['native-country'].str.strip()\n",
    "training_set['class'] = training_set['class'].str.strip()\n",
    "\n",
    "test_set['workclass'] = test_set['workclass'].str.strip()\n",
    "test_set['education'] = test_set['education'].str.strip()\n",
    "training_set['marital-status'] = training_set['marital-status'].str.strip()\n",
    "test_set['occupation'] = test_set['occupation'].str.strip()\n",
    "test_set['relationship'] = test_set['relationship'].str.strip()\n",
    "test_set['race'] = test_set['race'].str.strip()\n",
    "test_set['sex'] = test_set['sex'].str.strip()\n",
    "test_set['native-country'] = test_set['native-country'].str.strip()\n",
    "test_set['class'] = test_set['class'].str.strip()\n",
    "test_set['class'] = test_set['class'].str.strip('.')\n",
    "\n",
    "# Sanity checks\n",
    "listcheck = test_set['class'].tolist()\n",
    "print(listcheck[:10])\n",
    "listcheck = test_set['workclass'].tolist()\n",
    "print(listcheck[:10])\n",
    "listcheck = test_set['relationship'].tolist()\n",
    "print(listcheck[:10])"
   ]
  },
  {
   "cell_type": "code",
   "execution_count": 16,
   "id": "28ff9c06",
   "metadata": {},
   "outputs": [
    {
     "name": "stdout",
     "output_type": "stream",
     "text": [
      "<class 'pandas.core.frame.DataFrame'>\n",
      "RangeIndex: 32561 entries, 0 to 32560\n",
      "Data columns (total 15 columns):\n",
      " #   Column          Non-Null Count  Dtype \n",
      "---  ------          --------------  ----- \n",
      " 0   age             32561 non-null  int64 \n",
      " 1   workclass       32561 non-null  object\n",
      " 2   fnlwgt          32561 non-null  int64 \n",
      " 3   education       32561 non-null  object\n",
      " 4   education-num   32561 non-null  int64 \n",
      " 5   marital-status  32561 non-null  object\n",
      " 6   occupation      32561 non-null  object\n",
      " 7   relationship    32561 non-null  object\n",
      " 8   race            32561 non-null  object\n",
      " 9   sex             32561 non-null  object\n",
      " 10  capital-gain    32561 non-null  int64 \n",
      " 11  capital-loss    32561 non-null  int64 \n",
      " 12  hours-per-week  32561 non-null  int64 \n",
      " 13  native-country  32561 non-null  object\n",
      " 14  class           32561 non-null  object\n",
      "dtypes: int64(6), object(9)\n",
      "memory usage: 3.7+ MB\n"
     ]
    }
   ],
   "source": [
    "training_set.info()"
   ]
  },
  {
   "cell_type": "code",
   "execution_count": 17,
   "id": "79fef794",
   "metadata": {},
   "outputs": [
    {
     "name": "stdout",
     "output_type": "stream",
     "text": [
      "<class 'pandas.core.frame.DataFrame'>\n",
      "RangeIndex: 32561 entries, 0 to 32560\n",
      "Data columns (total 14 columns):\n",
      " #   Column          Non-Null Count  Dtype \n",
      "---  ------          --------------  ----- \n",
      " 0   age             32561 non-null  int64 \n",
      " 1   workclass       32561 non-null  object\n",
      " 2   fnlwgt          32561 non-null  int64 \n",
      " 3   education       32561 non-null  object\n",
      " 4   marital-status  32561 non-null  object\n",
      " 5   occupation      32561 non-null  object\n",
      " 6   relationship    32561 non-null  object\n",
      " 7   race            32561 non-null  object\n",
      " 8   sex             32561 non-null  object\n",
      " 9   capital-gain    32561 non-null  int64 \n",
      " 10  capital-loss    32561 non-null  int64 \n",
      " 11  hours-per-week  32561 non-null  int64 \n",
      " 12  native-country  32561 non-null  object\n",
      " 13  class           32561 non-null  object\n",
      "dtypes: int64(5), object(9)\n",
      "memory usage: 3.5+ MB\n"
     ]
    }
   ],
   "source": [
    "# Dropping education-num because it has the same representation as education\n",
    "training_set = training_set.drop('education-num', 1)\n",
    "test_set = test_set.drop('education-num', 1)\n",
    "training_set.info()"
   ]
  },
  {
   "cell_type": "markdown",
   "id": "9bae7a9a",
   "metadata": {},
   "source": [
    "#### Encoding Categorical Variables and Seperating the Dependent Variable "
   ]
  },
  {
   "cell_type": "code",
   "execution_count": 18,
   "id": "e19851fd",
   "metadata": {},
   "outputs": [],
   "source": [
    "# Encoding categorical variables in training set\n",
    "from sklearn.preprocessing import LabelEncoder\n",
    "le = LabelEncoder()\n",
    "for i in ('workclass','education','marital-status','occupation','relationship','race','sex','native-country','class'):\n",
    "    training_set[i] = le.fit_transform(training_set[i])"
   ]
  },
  {
   "cell_type": "code",
   "execution_count": 19,
   "id": "dba141dc",
   "metadata": {},
   "outputs": [],
   "source": [
    "# Encoding categorical variables in test set\n",
    "for i in ('workclass','education','marital-status','occupation','relationship','race','sex','native-country','class'):\n",
    "    test_set[i] = le.fit_transform(test_set[i])"
   ]
  },
  {
   "cell_type": "code",
   "execution_count": 20,
   "id": "b159cfae",
   "metadata": {},
   "outputs": [
    {
     "name": "stdout",
     "output_type": "stream",
     "text": [
      "[[    39      7  77516 ...      0     40     39]\n",
      " [    50      6  83311 ...      0     13     39]\n",
      " [    38      4 215646 ...      0     40     39]\n",
      " ...\n",
      " [    58      4 151910 ...      0     40     39]\n",
      " [    22      4 201490 ...      0     20     39]\n",
      " [    52      5 287927 ...      0     40     39]]\n",
      "[0 0 0 ... 0 0 1]\n",
      "[[    25      4 226802 ...      0     40     38]\n",
      " [    38      4  89814 ...      0     50     38]\n",
      " [    28      2 336951 ...      0     40     38]\n",
      " ...\n",
      " [    38      4 374983 ...      0     50     38]\n",
      " [    44      4  83891 ...      0     40     38]\n",
      " [    35      5 182148 ...      0     60     38]]\n",
      "[0 0 1 ... 0 0 1]\n"
     ]
    }
   ],
   "source": [
    "# Variable splitting\n",
    "train_iv = training_set.iloc[:, :-1].values\n",
    "train_dv = training_set.iloc[:, -1].values\n",
    "\n",
    "test_iv = test_set.iloc[:, :-1].values\n",
    "test_dv = test_set.iloc[:, -1].values\n",
    "\n",
    "# Sanity checking variable splits\n",
    "print(train_iv)\n",
    "print(train_dv)\n",
    "print(test_iv)\n",
    "print(test_dv)"
   ]
  },
  {
   "cell_type": "markdown",
   "id": "3a9fd5c6",
   "metadata": {},
   "source": [
    "#### Feature Scaling"
   ]
  },
  {
   "cell_type": "code",
   "execution_count": 21,
   "id": "b1d27787",
   "metadata": {
    "scrolled": true
   },
   "outputs": [
    {
     "name": "stdout",
     "output_type": "stream",
     "text": [
      "[[ 0  7 -1 ...  0  0 39]\n",
      " [ 0  6 -1 ...  0 -2 39]\n",
      " [ 0  4  0 ...  0  0 39]\n",
      " ...\n",
      " [ 1  4  0 ...  0  0 39]\n",
      " [-1  4  0 ...  0 -1 39]\n",
      " [ 0  5  0 ...  0  0 39]]\n",
      "[[ 0  4  0 ...  0  0 38]\n",
      " [ 0  4  0 ...  0  0 38]\n",
      " [ 0  2  1 ...  0  0 38]\n",
      " ...\n",
      " [ 0  4  1 ...  0  0 38]\n",
      " [ 0  4 -1 ...  0  0 38]\n",
      " [ 0  5  0 ...  0  1 38]]\n"
     ]
    }
   ],
   "source": [
    "# Feature Scaling\n",
    "from sklearn.preprocessing import StandardScaler\n",
    "\n",
    "sc = StandardScaler()\n",
    "train_iv[:,[0,2,9,10,11]] = sc.fit_transform(train_iv[:,[0,2,9,10,11]])\n",
    "test_iv[:,[0,2,9,10,11]] = sc.transform(test_iv[:,[0,2,9,10,11]])\n",
    "\n",
    "print(train_iv)\n",
    "print(test_iv)"
   ]
  },
  {
   "cell_type": "markdown",
   "id": "bfd4f0c3",
   "metadata": {},
   "source": [
    "#### Algorithm Comparisons and Predictions\n",
    "Next, I am performing two variations of k-Fold Cross Validation using XGBoost. Due to the vast majority (>99.5%) of capital-gain and capital-loss variables having a value of '0', I want to determine if it is better to ignore these values or use them in the models."
   ]
  },
  {
   "cell_type": "code",
   "execution_count": 22,
   "id": "6b527e98",
   "metadata": {
    "scrolled": true
   },
   "outputs": [
    {
     "name": "stdout",
     "output_type": "stream",
     "text": [
      "Accuracy: 84.79 %\n",
      "Standard Deviation: 0.49 %\n"
     ]
    }
   ],
   "source": [
    "# -------------------------\n",
    "# Including capital-gain and capital-loss\n",
    "# -------------------------\n",
    "\n",
    "# Applying k-Fold Cross Validation to XGBoost\n",
    "from xgboost import XGBClassifier\n",
    "xgb_classifier = XGBClassifier(verbosity = 0)\n",
    "xgb_classifier.fit(train_iv, train_dv)\n",
    "\n",
    "from sklearn.model_selection import cross_val_score\n",
    "xgb_accuracies = cross_val_score(estimator = xgb_classifier, X = train_iv, y = train_dv, cv = 10)\n",
    "print(\"Accuracy: {:.2f} %\".format(xgb_accuracies.mean()*100))\n",
    "print(\"Standard Deviation: {:.2f} %\".format(xgb_accuracies.std()*100))"
   ]
  },
  {
   "cell_type": "code",
   "execution_count": 23,
   "id": "30e000da",
   "metadata": {},
   "outputs": [
    {
     "name": "stdout",
     "output_type": "stream",
     "text": [
      "Accuracy: 84.41 %\n",
      "Standard Deviation: 0.53 %\n"
     ]
    }
   ],
   "source": [
    "# -------------------------\n",
    "# Excluding capital-gain and capital-loss\n",
    "# -------------------------\n",
    "\n",
    "# Removing capital-gain and capital-loss variables\n",
    "training_set2 = training_set.drop('capital-gain', 1)\n",
    "training_set2 = training_set.drop('capital-loss', 1)\n",
    "test_set2 = test_set.drop('capital-gain', 1)\n",
    "test_set2 = test_set.drop('capital-loss', 1)\n",
    "\n",
    "train_iv2 = training_set2.iloc[:, :-1].values\n",
    "train_dv2 = training_set2.iloc[:, -1].values\n",
    "\n",
    "test_iv2 = test_set2.iloc[:, :-1].values\n",
    "test_dv2 = test_set2.iloc[:, -1].values\n",
    "\n",
    "# Feature Scaling\n",
    "sc = StandardScaler()\n",
    "train_iv2[:,[0,2,9,10,11]] = sc.fit_transform(train_iv2[:,[0,2,9,10,11]])\n",
    "test_iv2[:,[0,2,9,10,11]] = sc.transform(test_iv2[:,[0,2,9,10,11]])\n",
    "\n",
    "# Applying k-Fold Cross Validation to XGBoost\n",
    "from xgboost import XGBClassifier\n",
    "xgb_classifier = XGBClassifier(verbosity = 0)\n",
    "xgb_classifier.fit(train_iv2, train_dv2)\n",
    "\n",
    "from sklearn.model_selection import cross_val_score\n",
    "xgb_accuracies = cross_val_score(estimator = xgb_classifier, X = train_iv2, y = train_dv2, cv = 10)\n",
    "print(\"Accuracy: {:.2f} %\".format(xgb_accuracies.mean()*100))\n",
    "print(\"Standard Deviation: {:.2f} %\".format(xgb_accuracies.std()*100))"
   ]
  },
  {
   "cell_type": "markdown",
   "id": "451b785e",
   "metadata": {},
   "source": [
    "Capital.gain and capital.loss contain majority value '0', and the k-fold validation results show that removing these two parameters will have little to no improvement. However, for the sake of extensive invesigation and demonstration of data science skills, I will proceed using both sets of data. All coded variables ending in a '2' are for the data set excluding capital based parameters.\n",
    "\n",
    "I will be comparing XGBoost, Random Forest, and Kernel SVM models.\n",
    "\n",
    "#### Fitting Models"
   ]
  },
  {
   "cell_type": "code",
   "execution_count": 24,
   "id": "83b51f9e",
   "metadata": {
    "scrolled": true
   },
   "outputs": [
    {
     "name": "stdout",
     "output_type": "stream",
     "text": [
      "XGBClassifier(base_score=0.5, booster='gbtree', colsample_bylevel=1,\n",
      "              colsample_bynode=1, colsample_bytree=1, enable_categorical=False,\n",
      "              gamma=0, gpu_id=-1, importance_type=None,\n",
      "              interaction_constraints='', learning_rate=0.300000012,\n",
      "              max_delta_step=0, max_depth=6, min_child_weight=1, missing=nan,\n",
      "              monotone_constraints='()', n_estimators=100, n_jobs=12,\n",
      "              num_parallel_tree=1, predictor='auto', random_state=0,\n",
      "              reg_alpha=0, reg_lambda=1, scale_pos_weight=1, subsample=1,\n",
      "              tree_method='exact', validate_parameters=1, verbosity=0) :\n",
      " \n",
      " The confusion matrix:\n",
      " [[11643   792]\n",
      " [ 1684  2162]] \n",
      "\n",
      "Accuracy: 84.79 % \n",
      "\n",
      "The classification report:\n",
      "               precision    recall  f1-score   support\n",
      "\n",
      "           0       0.87      0.94      0.90     12435\n",
      "           1       0.73      0.56      0.64      3846\n",
      "\n",
      "    accuracy                           0.85     16281\n",
      "   macro avg       0.80      0.75      0.77     16281\n",
      "weighted avg       0.84      0.85      0.84     16281\n",
      " \n",
      "\n",
      "---------------------------------------\n",
      "RandomForestClassifier(random_state=0) :\n",
      " \n",
      " The confusion matrix:\n",
      " [[11359  1076]\n",
      " [ 1621  2225]] \n",
      "\n",
      "Accuracy: 83.43 % \n",
      "\n",
      "The classification report:\n",
      "               precision    recall  f1-score   support\n",
      "\n",
      "           0       0.88      0.91      0.89     12435\n",
      "           1       0.67      0.58      0.62      3846\n",
      "\n",
      "    accuracy                           0.83     16281\n",
      "   macro avg       0.77      0.75      0.76     16281\n",
      "weighted avg       0.83      0.83      0.83     16281\n",
      " \n",
      "\n",
      "---------------------------------------\n",
      "SVC(random_state=0) :\n",
      " \n",
      " The confusion matrix:\n",
      " [[12089   346]\n",
      " [ 3366   480]] \n",
      "\n",
      "Accuracy: 77.20 % \n",
      "\n",
      "The classification report:\n",
      "               precision    recall  f1-score   support\n",
      "\n",
      "           0       0.78      0.97      0.87     12435\n",
      "           1       0.58      0.12      0.21      3846\n",
      "\n",
      "    accuracy                           0.77     16281\n",
      "   macro avg       0.68      0.55      0.54     16281\n",
      "weighted avg       0.73      0.77      0.71     16281\n",
      " \n",
      "\n",
      "---------------------------------------\n",
      "LogisticRegression(random_state=0) :\n",
      " \n",
      " The confusion matrix:\n",
      " [[12113   322]\n",
      " [ 3069   777]] \n",
      "\n",
      "Accuracy: 79.17 % \n",
      "\n",
      "The classification report:\n",
      "               precision    recall  f1-score   support\n",
      "\n",
      "           0       0.80      0.97      0.88     12435\n",
      "           1       0.71      0.20      0.31      3846\n",
      "\n",
      "    accuracy                           0.79     16281\n",
      "   macro avg       0.75      0.59      0.60     16281\n",
      "weighted avg       0.78      0.79      0.74     16281\n",
      " \n",
      "\n",
      "---------------------------------------\n",
      "DecisionTreeClassifier(random_state=0) :\n",
      " \n",
      " The confusion matrix:\n",
      " [[11155  1280]\n",
      " [ 1758  2088]] \n",
      "\n",
      "Accuracy: 81.34 % \n",
      "\n",
      "The classification report:\n",
      "               precision    recall  f1-score   support\n",
      "\n",
      "           0       0.86      0.90      0.88     12435\n",
      "           1       0.62      0.54      0.58      3846\n",
      "\n",
      "    accuracy                           0.81     16281\n",
      "   macro avg       0.74      0.72      0.73     16281\n",
      "weighted avg       0.81      0.81      0.81     16281\n",
      " \n",
      "\n",
      "---------------------------------------\n",
      "GaussianNB() :\n",
      " \n",
      " The confusion matrix:\n",
      " [[12106   329]\n",
      " [ 3084   762]] \n",
      "\n",
      "Accuracy: 79.04 % \n",
      "\n",
      "The classification report:\n",
      "               precision    recall  f1-score   support\n",
      "\n",
      "           0       0.80      0.97      0.88     12435\n",
      "           1       0.70      0.20      0.31      3846\n",
      "\n",
      "    accuracy                           0.79     16281\n",
      "   macro avg       0.75      0.59      0.59     16281\n",
      "weighted avg       0.77      0.79      0.74     16281\n",
      " \n",
      "\n",
      "---------------------------------------\n"
     ]
    }
   ],
   "source": [
    "# -------------------------\n",
    "# Including capital-gain and capital-loss\n",
    "# -------------------------\n",
    "\n",
    "from xgboost import XGBClassifier\n",
    "from sklearn.ensemble import RandomForestClassifier\n",
    "from sklearn.svm import SVC\n",
    "\n",
    "# In my exploration of translating from R to Python, I found the \n",
    "# algorithm training steps to be particularly simpler in Python\n",
    "# Below is my learning of how to impliment several at a time.\n",
    "from sklearn.linear_model import LogisticRegression\n",
    "from sklearn.neighbors import KNeighborsClassifier\n",
    "from sklearn.tree import DecisionTreeClassifier\n",
    "from sklearn.naive_bayes import GaussianNB\n",
    "from sklearn.metrics import confusion_matrix, accuracy_score, classification_report\n",
    "\n",
    "xgb_c = XGBClassifier(verbosity = 0) \n",
    "rf_c = RandomForestClassifier(random_state = 0)\n",
    "ksvm_c = SVC(random_state = 0)\n",
    "lr_c = LogisticRegression(random_state = 0)\n",
    "dt_c = DecisionTreeClassifier(random_state = 0)\n",
    "gnb_c = GaussianNB()\n",
    "\n",
    "acclst = []\n",
    "\n",
    "for i in(xgb_c,rf_c, ksvm_c, lr_c, dt_c,gnb_c):\n",
    "    \n",
    "    i.fit(train_iv, train_dv)\n",
    "    y_pred = i.predict(test_iv)\n",
    "    \n",
    "    cm = confusion_matrix(test_dv, y_pred)\n",
    "    cr = classification_report(test_dv, y_pred)\n",
    "    \n",
    "    acc = accuracy_score(test_dv, y_pred) * 100\n",
    "    acclst.append(acc)\n",
    "    \n",
    "    print(i,':\\n','\\n','The confusion matrix:\\n',cm,'\\n')\n",
    "    print(\"Accuracy: {:.2f} %\".format(acc),'\\n')\n",
    "    print('The classification report:\\n',cr,'\\n')\n",
    "    print('---------------------------------------')"
   ]
  },
  {
   "cell_type": "code",
   "execution_count": 25,
   "id": "07416a43",
   "metadata": {},
   "outputs": [
    {
     "name": "stdout",
     "output_type": "stream",
     "text": [
      "XGBClassifier(base_score=0.5, booster='gbtree', colsample_bylevel=1,\n",
      "              colsample_bynode=1, colsample_bytree=1, enable_categorical=False,\n",
      "              gamma=0, gpu_id=-1, importance_type=None,\n",
      "              interaction_constraints='', learning_rate=0.300000012,\n",
      "              max_delta_step=0, max_depth=6, min_child_weight=1, missing=nan,\n",
      "              monotone_constraints='()', n_estimators=100, n_jobs=12,\n",
      "              num_parallel_tree=1, predictor='auto', random_state=0,\n",
      "              reg_alpha=0, reg_lambda=1, scale_pos_weight=1, subsample=1,\n",
      "              tree_method='exact', validate_parameters=1, verbosity=0) :\n",
      " \n",
      " The confusion matrix:\n",
      " [[11492   943]\n",
      " [ 1566  2280]] \n",
      "\n",
      "Accuracy: 84.59 % \n",
      "\n",
      "The classification report:\n",
      "               precision    recall  f1-score   support\n",
      "\n",
      "           0       0.88      0.92      0.90     12435\n",
      "           1       0.71      0.59      0.65      3846\n",
      "\n",
      "    accuracy                           0.85     16281\n",
      "   macro avg       0.79      0.76      0.77     16281\n",
      "weighted avg       0.84      0.85      0.84     16281\n",
      " \n",
      "\n",
      "---------------------------------------\n",
      "RandomForestClassifier(random_state=0) :\n",
      " \n",
      " The confusion matrix:\n",
      " [[11315  1120]\n",
      " [ 1669  2177]] \n",
      "\n",
      "Accuracy: 82.87 % \n",
      "\n",
      "The classification report:\n",
      "               precision    recall  f1-score   support\n",
      "\n",
      "           0       0.87      0.91      0.89     12435\n",
      "           1       0.66      0.57      0.61      3846\n",
      "\n",
      "    accuracy                           0.83     16281\n",
      "   macro avg       0.77      0.74      0.75     16281\n",
      "weighted avg       0.82      0.83      0.82     16281\n",
      " \n",
      "\n",
      "---------------------------------------\n",
      "SVC(random_state=0) :\n",
      " \n",
      " The confusion matrix:\n",
      " [[12431     4]\n",
      " [ 3449   397]] \n",
      "\n",
      "Accuracy: 78.79 % \n",
      "\n",
      "The classification report:\n",
      "               precision    recall  f1-score   support\n",
      "\n",
      "           0       0.78      1.00      0.88     12435\n",
      "           1       0.99      0.10      0.19      3846\n",
      "\n",
      "    accuracy                           0.79     16281\n",
      "   macro avg       0.89      0.55      0.53     16281\n",
      "weighted avg       0.83      0.79      0.71     16281\n",
      " \n",
      "\n",
      "---------------------------------------\n",
      "LogisticRegression(random_state=0) :\n",
      " \n",
      " The confusion matrix:\n",
      " [[12119   316]\n",
      " [ 3251   595]] \n",
      "\n",
      "Accuracy: 78.09 % \n",
      "\n",
      "The classification report:\n",
      "               precision    recall  f1-score   support\n",
      "\n",
      "           0       0.79      0.97      0.87     12435\n",
      "           1       0.65      0.15      0.25      3846\n",
      "\n",
      "    accuracy                           0.78     16281\n",
      "   macro avg       0.72      0.56      0.56     16281\n",
      "weighted avg       0.76      0.78      0.72     16281\n",
      " \n",
      "\n",
      "---------------------------------------\n",
      "DecisionTreeClassifier(random_state=0) :\n",
      " \n",
      " The confusion matrix:\n",
      " [[11109  1326]\n",
      " [ 1730  2116]] \n",
      "\n",
      "Accuracy: 81.23 % \n",
      "\n",
      "The classification report:\n",
      "               precision    recall  f1-score   support\n",
      "\n",
      "           0       0.87      0.89      0.88     12435\n",
      "           1       0.61      0.55      0.58      3846\n",
      "\n",
      "    accuracy                           0.81     16281\n",
      "   macro avg       0.74      0.72      0.73     16281\n",
      "weighted avg       0.81      0.81      0.81     16281\n",
      " \n",
      "\n",
      "---------------------------------------\n",
      "GaussianNB() :\n",
      " \n",
      " The confusion matrix:\n",
      " [[12431     4]\n",
      " [ 3449   397]] \n",
      "\n",
      "Accuracy: 78.79 % \n",
      "\n",
      "The classification report:\n",
      "               precision    recall  f1-score   support\n",
      "\n",
      "           0       0.78      1.00      0.88     12435\n",
      "           1       0.99      0.10      0.19      3846\n",
      "\n",
      "    accuracy                           0.79     16281\n",
      "   macro avg       0.89      0.55      0.53     16281\n",
      "weighted avg       0.83      0.79      0.71     16281\n",
      " \n",
      "\n",
      "---------------------------------------\n"
     ]
    }
   ],
   "source": [
    "# -------------------------\n",
    "# Excluding capital.gain and capital.loss\n",
    "# -------------------------\n",
    "\n",
    "xgb_c2 = XGBClassifier(verbosity = 0) \n",
    "rf_c2 = RandomForestClassifier(random_state = 0)\n",
    "ksvm_c2 = SVC(random_state = 0)\n",
    "lr_c2 = LogisticRegression(random_state = 0)\n",
    "dt_c2 = DecisionTreeClassifier(random_state = 0)\n",
    "gnb_c2 = GaussianNB()\n",
    "\n",
    "acclst2 = []\n",
    "\n",
    "for i in(xgb_c2,rf_c2,ksvm_c2, lr_c2, dt_c2,gnb_c2):\n",
    "    \n",
    "    i.fit(train_iv2, train_dv2)\n",
    "    y_pred2 = i.predict(test_iv2)\n",
    "    \n",
    "    cm2 = confusion_matrix(test_dv2, y_pred2)\n",
    "    cr2 = classification_report(test_dv2, y_pred2)\n",
    "    \n",
    "    acc2 = accuracy_score(test_dv2, y_pred2) * 100\n",
    "    acclst2.append(acc2)\n",
    "    \n",
    "    print(i,':\\n','\\n','The confusion matrix:\\n',cm2,'\\n')\n",
    "    print(\"Accuracy: {:.2f} %\".format(acc2),'\\n')\n",
    "    print('The classification report:\\n',cr2,'\\n')\n",
    "    print('---------------------------------------')"
   ]
  },
  {
   "cell_type": "markdown",
   "id": "f43092e9",
   "metadata": {},
   "source": [
    "Looking at the confusion matrices, immediately we can see that the True Positive and True Negative values are greater than the False Positive and False Negative values in the cases of the XGBoost, Random Forest, and Decision Tree models. However, the values for False Positive and False Negative are still significant. A majority of the possible independent variable combinations will lead to a class variable value of '<=50K'."
   ]
  },
  {
   "cell_type": "code",
   "execution_count": 27,
   "id": "c46cf861",
   "metadata": {},
   "outputs": [
    {
     "data": {
      "text/html": [
       "<div>\n",
       "<style scoped>\n",
       "    .dataframe tbody tr th:only-of-type {\n",
       "        vertical-align: middle;\n",
       "    }\n",
       "\n",
       "    .dataframe tbody tr th {\n",
       "        vertical-align: top;\n",
       "    }\n",
       "\n",
       "    .dataframe thead th {\n",
       "        text-align: right;\n",
       "    }\n",
       "</style>\n",
       "<table border=\"1\" class=\"dataframe\">\n",
       "  <thead>\n",
       "    <tr style=\"text-align: right;\">\n",
       "      <th></th>\n",
       "      <th>Model</th>\n",
       "      <th>Accuracy W/ Cptl</th>\n",
       "      <th>Accuracy W/O Cptl</th>\n",
       "    </tr>\n",
       "  </thead>\n",
       "  <tbody>\n",
       "    <tr>\n",
       "      <th>0</th>\n",
       "      <td>XGBoost</td>\n",
       "      <td>84.792089</td>\n",
       "      <td>84.589399</td>\n",
       "    </tr>\n",
       "    <tr>\n",
       "      <th>1</th>\n",
       "      <td>Random Forest</td>\n",
       "      <td>83.434678</td>\n",
       "      <td>82.869603</td>\n",
       "    </tr>\n",
       "    <tr>\n",
       "      <th>4</th>\n",
       "      <td>Decision Tree</td>\n",
       "      <td>81.340213</td>\n",
       "      <td>81.229654</td>\n",
       "    </tr>\n",
       "    <tr>\n",
       "      <th>3</th>\n",
       "      <td>Logistic Regression</td>\n",
       "      <td>79.172041</td>\n",
       "      <td>78.091026</td>\n",
       "    </tr>\n",
       "    <tr>\n",
       "      <th>5</th>\n",
       "      <td>GaussianNB</td>\n",
       "      <td>79.036914</td>\n",
       "      <td>78.791229</td>\n",
       "    </tr>\n",
       "    <tr>\n",
       "      <th>2</th>\n",
       "      <td>Kernel SVM</td>\n",
       "      <td>77.200418</td>\n",
       "      <td>78.791229</td>\n",
       "    </tr>\n",
       "  </tbody>\n",
       "</table>\n",
       "</div>"
      ],
      "text/plain": [
       "                 Model  Accuracy W/ Cptl  Accuracy W/O Cptl\n",
       "0              XGBoost         84.792089          84.589399\n",
       "1        Random Forest         83.434678          82.869603\n",
       "4        Decision Tree         81.340213          81.229654\n",
       "3  Logistic Regression         79.172041          78.091026\n",
       "5           GaussianNB         79.036914          78.791229\n",
       "2           Kernel SVM         77.200418          78.791229"
      ]
     },
     "execution_count": 27,
     "metadata": {},
     "output_type": "execute_result"
    }
   ],
   "source": [
    "tab = pd.DataFrame({'Model':['XGBoost','Random Forest','Kernel SVM',\n",
    "                               'Logistic Regression','Decision Tree','GaussianNB'],\n",
    "                     'Accuracy W/ Cptl': acclst,\n",
    "                     'Accuracy W/O Cptl': acclst2})\n",
    "\n",
    "tab.sort_values('Accuracy W/ Cptl', ascending = False)"
   ]
  },
  {
   "cell_type": "markdown",
   "id": "26da19c1",
   "metadata": {},
   "source": [
    "The best accuracy value (XGBoost with capital) is ~85%, which is not bad, but this algorithm could possibly be improved by having more accurate data recorded for indepedent variables 'capital.gain' and 'capital.loss'.\n",
    "\n",
    "The XG Boost algorithm has the best accuracy, and therefore will be used acquire a confusion matrix and Area Under the Receiver Operating Characteristic curve (AUROC curve). AUROC curves can be created quickly, so I will continue to compare the dataset that includes capital vs the dataset that excludes it. It is worth noting that Kernel SVM took much longer to run than the other models.\n",
    "\n",
    "#### AUROC Curve"
   ]
  },
  {
   "cell_type": "code",
   "execution_count": 28,
   "id": "bf998bb1",
   "metadata": {},
   "outputs": [
    {
     "data": {
      "image/png": "[encoded data removed]",
      "text/plain": [
       "<Figure size 432x288 with 1 Axes>"
      ]
     },
     "metadata": {
      "needs_background": "light"
     },
     "output_type": "display_data"
    },
    {
     "name": "stdout",
     "output_type": "stream",
     "text": [
      "XGBoost AUC Score (With Capital Variables):\n",
      " 0.8979 \n",
      "\n"
     ]
    },
    {
     "data": {
      "image/png": "[encoded data removed]",
      "text/plain": [
       "<Figure size 432x288 with 1 Axes>"
      ]
     },
     "metadata": {
      "needs_background": "light"
     },
     "output_type": "display_data"
    },
    {
     "name": "stdout",
     "output_type": "stream",
     "text": [
      "XGBoost AUC Score (Without Capital Variables):\n",
      " 0.8971 \n",
      "\n"
     ]
    }
   ],
   "source": [
    "# Calculating ROC curve and AUC for XG Boost when including capital variables\n",
    "from sklearn import metrics\n",
    "\n",
    "y_pred_proba = xgb_c.predict_proba(test_iv)[::,1]\n",
    "fpr, tpr, _ = metrics.roc_curve(test_dv, y_pred_proba)\n",
    "auc = metrics.roc_auc_score(test_dv, y_pred_proba)\n",
    "\n",
    "# Creating ROC Curve\n",
    "plt.plot(fpr,tpr)\n",
    "plt.title('XGBoost ROC Curve\\n(With Capital Variables)')\n",
    "plt.xlabel('Specificity (FPR)')\n",
    "plt.ylabel('Sensitivity (TPR)')\n",
    "plt.show()\n",
    "\n",
    "print('XGBoost AUC Score (With Capital Variables):\\n',round(auc, 4),'\\n')\n",
    "\n",
    "# Calculating ROC curve and AUC for XG Boost when excluding capital variables\n",
    "from sklearn import metrics\n",
    "\n",
    "y_pred_proba2 = xgb_c2.predict_proba(test_iv2)[::,1]\n",
    "fpr2, tpr2, _ = metrics.roc_curve(test_dv2, y_pred_proba2)\n",
    "auc2 = metrics.roc_auc_score(test_dv2, y_pred_proba2)\n",
    "\n",
    "# Creating ROC Curve\n",
    "plt.plot(fpr2,tpr2)\n",
    "plt.title('XGBoost ROC Curve\\n(Without Capital Variables)')\n",
    "plt.xlabel('Specificity (FPR)')\n",
    "plt.ylabel('Sensitivity (TPR)')\n",
    "plt.show()\n",
    "    \n",
    "print('XGBoost AUC Score (Without Capital Variables):\\n',round(auc2, 4),'\\n')"
   ]
  },
  {
   "cell_type": "markdown",
   "id": "8903f3ec",
   "metadata": {},
   "source": [
    "The XGBoost AUROC curve has a very good value of 0.8856, implying that the XGBoost model has great discriminatory ability. This means 88.56% of the time the XGBoost model will correctly assign a salary range to a randomly selecting individual when knowing all the values of that individual's independent variables. Having a value above 0.8 would mean the algorithm is very solid, and should be the target for an appropriate algorithm. XGBoost is working well in this case.\n",
    "\n",
    "Earlier we saw that including capital gain and capital loss slightly improved the k-fold validation of the XGBoost model. However, the AUROC curves show that excluding the capital variables has a slight improvement on the discriminatory ability of the XGBoost model. \n",
    "\n",
    "If the capital gain and capital loss values are inaccurate within this dataset, updating these values may improve the AUROC curve. If the capital gain and capital loss values are accurate, perhaps excluding these values will be better for the models involving even larger data sets, as it will improve processing time."
   ]
  },
  {
   "cell_type": "markdown",
   "id": "195f59c8",
   "metadata": {
    "scrolled": true
   },
   "source": [
    "### Extra Content\n",
    "#### Exploring the situation where all individual variables are used in feature scaling.\n",
    "While working on this Python translation, I caught a feature scaling error I made in my R modeling, and it had me wondering how the results would change if I was to apply feature scaling to all individual variables. That is being checked here."
   ]
  },
  {
   "cell_type": "code",
   "execution_count": 29,
   "id": "8d0f997c",
   "metadata": {},
   "outputs": [],
   "source": [
    "#Variable splitting for new dataset\n",
    "train_iv3 = training_set.iloc[:, :-1].values\n",
    "train_dv3 = training_set.iloc[:, -1].values\n",
    "\n",
    "test_iv3 = test_set.iloc[:, :-1].values\n",
    "test_dv3 = test_set.iloc[:, -1].values\n",
    "\n",
    "from sklearn.preprocessing import StandardScaler\n",
    "\n",
    "sc = StandardScaler()\n",
    "train_iv3[:,:] = sc.fit_transform(train_iv3[:,:])\n",
    "test_iv3[:,:] = sc.transform(test_iv3[:,:])"
   ]
  },
  {
   "cell_type": "markdown",
   "id": "da15f615",
   "metadata": {},
   "source": [
    "#### Fitting Models"
   ]
  },
  {
   "cell_type": "code",
   "execution_count": 30,
   "id": "34552332",
   "metadata": {},
   "outputs": [
    {
     "name": "stdout",
     "output_type": "stream",
     "text": [
      "XGBClassifier(base_score=0.5, booster='gbtree', colsample_bylevel=1,\n",
      "              colsample_bynode=1, colsample_bytree=1, enable_categorical=False,\n",
      "              gamma=0, gpu_id=-1, importance_type=None,\n",
      "              interaction_constraints='', learning_rate=0.300000012,\n",
      "              max_delta_step=0, max_depth=6, min_child_weight=1, missing=nan,\n",
      "              monotone_constraints='()', n_estimators=100, n_jobs=12,\n",
      "              num_parallel_tree=1, predictor='auto', random_state=0,\n",
      "              reg_alpha=0, reg_lambda=1, scale_pos_weight=1, subsample=1,\n",
      "              tree_method='exact', validate_parameters=1, verbosity=0) :\n",
      " \n",
      " The confusion matrix:\n",
      " [[11721   714]\n",
      " [ 2388  1458]] \n",
      "\n",
      "Accuracy: 80.95 % \n",
      "\n",
      "The classification report:\n",
      "               precision    recall  f1-score   support\n",
      "\n",
      "           0       0.83      0.94      0.88     12435\n",
      "           1       0.67      0.38      0.48      3846\n",
      "\n",
      "    accuracy                           0.81     16281\n",
      "   macro avg       0.75      0.66      0.68     16281\n",
      "weighted avg       0.79      0.81      0.79     16281\n",
      " \n",
      "\n",
      "---------------------------------------\n",
      "RandomForestClassifier(random_state=0) :\n",
      " \n",
      " The confusion matrix:\n",
      " [[11493   942]\n",
      " [ 2347  1499]] \n",
      "\n",
      "Accuracy: 79.80 % \n",
      "\n",
      "The classification report:\n",
      "               precision    recall  f1-score   support\n",
      "\n",
      "           0       0.83      0.92      0.87     12435\n",
      "           1       0.61      0.39      0.48      3846\n",
      "\n",
      "    accuracy                           0.80     16281\n",
      "   macro avg       0.72      0.66      0.68     16281\n",
      "weighted avg       0.78      0.80      0.78     16281\n",
      " \n",
      "\n",
      "---------------------------------------\n",
      "SVC(random_state=0) :\n",
      " \n",
      " The confusion matrix:\n",
      " [[12187   248]\n",
      " [ 2970   876]] \n",
      "\n",
      "Accuracy: 80.23 % \n",
      "\n",
      "The classification report:\n",
      "               precision    recall  f1-score   support\n",
      "\n",
      "           0       0.80      0.98      0.88     12435\n",
      "           1       0.78      0.23      0.35      3846\n",
      "\n",
      "    accuracy                           0.80     16281\n",
      "   macro avg       0.79      0.60      0.62     16281\n",
      "weighted avg       0.80      0.80      0.76     16281\n",
      " \n",
      "\n",
      "---------------------------------------\n",
      "LogisticRegression(random_state=0) :\n",
      " \n",
      " The confusion matrix:\n",
      " [[11932   503]\n",
      " [ 3021   825]] \n",
      "\n",
      "Accuracy: 78.36 % \n",
      "\n",
      "The classification report:\n",
      "               precision    recall  f1-score   support\n",
      "\n",
      "           0       0.80      0.96      0.87     12435\n",
      "           1       0.62      0.21      0.32      3846\n",
      "\n",
      "    accuracy                           0.78     16281\n",
      "   macro avg       0.71      0.59      0.60     16281\n",
      "weighted avg       0.76      0.78      0.74     16281\n",
      " \n",
      "\n",
      "---------------------------------------\n",
      "DecisionTreeClassifier(random_state=0) :\n",
      " \n",
      " The confusion matrix:\n",
      " [[11524   911]\n",
      " [ 2474  1372]] \n",
      "\n",
      "Accuracy: 79.21 % \n",
      "\n",
      "The classification report:\n",
      "               precision    recall  f1-score   support\n",
      "\n",
      "           0       0.82      0.93      0.87     12435\n",
      "           1       0.60      0.36      0.45      3846\n",
      "\n",
      "    accuracy                           0.79     16281\n",
      "   macro avg       0.71      0.64      0.66     16281\n",
      "weighted avg       0.77      0.79      0.77     16281\n",
      " \n",
      "\n",
      "---------------------------------------\n",
      "GaussianNB() :\n",
      " \n",
      " The confusion matrix:\n",
      " [[12098   337]\n",
      " [ 3083   763]] \n",
      "\n",
      "Accuracy: 78.99 % \n",
      "\n",
      "The classification report:\n",
      "               precision    recall  f1-score   support\n",
      "\n",
      "           0       0.80      0.97      0.88     12435\n",
      "           1       0.69      0.20      0.31      3846\n",
      "\n",
      "    accuracy                           0.79     16281\n",
      "   macro avg       0.75      0.59      0.59     16281\n",
      "weighted avg       0.77      0.79      0.74     16281\n",
      " \n",
      "\n",
      "---------------------------------------\n"
     ]
    }
   ],
   "source": [
    "# -------------------------\n",
    "# Including capital.gain and capital.loss, feature scaling all variables\n",
    "# -------------------------\n",
    "\n",
    "xgb_c3 = XGBClassifier(verbosity = 0) \n",
    "rf_c3 = RandomForestClassifier(random_state = 0)\n",
    "ksvm_c3 = SVC(random_state = 0)\n",
    "lr_c3 = LogisticRegression(random_state = 0)\n",
    "dt_c3 = DecisionTreeClassifier(random_state = 0)\n",
    "gnb_c3 = GaussianNB()\n",
    "\n",
    "acclst3 = []\n",
    "\n",
    "for i in(xgb_c3,rf_c3, ksvm_c3, lr_c3, dt_c3, gnb_c3):\n",
    "    \n",
    "    i.fit(train_iv3, train_dv3)\n",
    "    y_pred3 = i.predict(test_iv3)\n",
    "    \n",
    "    cm3 = confusion_matrix(test_dv3, y_pred3)\n",
    "    cr3 = classification_report(test_dv3, y_pred3)\n",
    "    \n",
    "    acc3 = accuracy_score(test_dv3, y_pred3) * 100\n",
    "    acclst3.append(acc3)\n",
    "    \n",
    "    print(i,':\\n','\\n','The confusion matrix:\\n',cm3,'\\n')\n",
    "    print(\"Accuracy: {:.2f} %\".format(acc3),'\\n')\n",
    "    print('The classification report:\\n',cr3,'\\n')\n",
    "    print('---------------------------------------')"
   ]
  },
  {
   "cell_type": "code",
   "execution_count": 31,
   "id": "03638a7d",
   "metadata": {},
   "outputs": [
    {
     "data": {
      "text/html": [
       "<div>\n",
       "<style scoped>\n",
       "    .dataframe tbody tr th:only-of-type {\n",
       "        vertical-align: middle;\n",
       "    }\n",
       "\n",
       "    .dataframe tbody tr th {\n",
       "        vertical-align: top;\n",
       "    }\n",
       "\n",
       "    .dataframe thead th {\n",
       "        text-align: right;\n",
       "    }\n",
       "</style>\n",
       "<table border=\"1\" class=\"dataframe\">\n",
       "  <thead>\n",
       "    <tr style=\"text-align: right;\">\n",
       "      <th></th>\n",
       "      <th>Model</th>\n",
       "      <th>Accuracy</th>\n",
       "    </tr>\n",
       "  </thead>\n",
       "  <tbody>\n",
       "    <tr>\n",
       "      <th>0</th>\n",
       "      <td>XGBoost</td>\n",
       "      <td>80.947116</td>\n",
       "    </tr>\n",
       "    <tr>\n",
       "      <th>2</th>\n",
       "      <td>Kernel SVM</td>\n",
       "      <td>80.234629</td>\n",
       "    </tr>\n",
       "    <tr>\n",
       "      <th>1</th>\n",
       "      <td>Random Forest</td>\n",
       "      <td>79.798538</td>\n",
       "    </tr>\n",
       "    <tr>\n",
       "      <th>4</th>\n",
       "      <td>Decision Tree</td>\n",
       "      <td>79.208894</td>\n",
       "    </tr>\n",
       "    <tr>\n",
       "      <th>5</th>\n",
       "      <td>GaussianNB</td>\n",
       "      <td>78.993919</td>\n",
       "    </tr>\n",
       "    <tr>\n",
       "      <th>3</th>\n",
       "      <td>Logistic Regression</td>\n",
       "      <td>78.355138</td>\n",
       "    </tr>\n",
       "  </tbody>\n",
       "</table>\n",
       "</div>"
      ],
      "text/plain": [
       "                 Model   Accuracy\n",
       "0              XGBoost  80.947116\n",
       "2           Kernel SVM  80.234629\n",
       "1        Random Forest  79.798538\n",
       "4        Decision Tree  79.208894\n",
       "5           GaussianNB  78.993919\n",
       "3  Logistic Regression  78.355138"
      ]
     },
     "execution_count": 31,
     "metadata": {},
     "output_type": "execute_result"
    }
   ],
   "source": [
    "# Model accuracy table\n",
    "tab3 = pd.DataFrame({'Model':['XGBoost','Random Forest','Kernel SVM',\n",
    "                               'Logistic Regression','Decision Tree','GaussianNB'],\n",
    "                     'Accuracy': acclst3})\n",
    "\n",
    "tab3.sort_values('Accuracy', ascending = False)"
   ]
  },
  {
   "cell_type": "markdown",
   "id": "1db92294",
   "metadata": {},
   "source": [
    "Here we can see a significant drop in the accuracy of XGBoost, Random Forest, and Decision Tree, with an improvement in the accuracy of the Kernel SVM model. However, a k-Fold validation of the SVM model may reveal a large standard deviation.\n",
    "\n",
    "#### AUROC Curve"
   ]
  },
  {
   "cell_type": "code",
   "execution_count": 32,
   "id": "8ab3b54f",
   "metadata": {},
   "outputs": [
    {
     "data": {
      "image/png": "[encoded data removed]",
      "text/plain": [
       "<Figure size 432x288 with 1 Axes>"
      ]
     },
     "metadata": {
      "needs_background": "light"
     },
     "output_type": "display_data"
    },
    {
     "name": "stdout",
     "output_type": "stream",
     "text": [
      "XGBoost AUC Score (All IVs Scaled):\n",
      " 0.8462 \n",
      "\n"
     ]
    }
   ],
   "source": [
    "# Auroc Using XGBoost\n",
    "y_pred_proba3 = xgb_c3.predict_proba(test_iv3)[::,1]\n",
    "fpr3, tpr3, _ = metrics.roc_curve(test_dv3, y_pred_proba3)\n",
    "auc3 = metrics.roc_auc_score(test_dv3, y_pred_proba3)\n",
    "\n",
    "# Creating ROC Curve\n",
    "plt.plot(fpr3,tpr3)\n",
    "plt.title('XGBoost ROC Curve\\n(All IVs Scaled)')\n",
    "plt.xlabel('Specificity (FPR)')\n",
    "plt.ylabel('Sensitivity (TPR)')\n",
    "plt.show()\n",
    "\n",
    "print('XGBoost AUC Score (All IVs Scaled):\\n',round(auc3, 4),'\\n')"
   ]
  },
  {
   "cell_type": "markdown",
   "id": "5eca94b5",
   "metadata": {},
   "source": [
    "As one may expect, the AUC Score has decreased. Feature scaling all independent variables, including encoded categories is not a viable process for machine learning in Python."
   ]
  }
 ],
 "metadata": {
  "kernelspec": {
   "display_name": "Python 3 (ipykernel)",
   "language": "python",
   "name": "python3"
  },
  "language_info": {
   "codemirror_mode": {
    "name": "ipython",
    "version": 3
   },
   "file_extension": ".py",
   "mimetype": "text/x-python",
   "name": "python",
   "nbconvert_exporter": "python",
   "pygments_lexer": "ipython3",
   "version": "3.9.11"
  }
 },
 "nbformat": 4,
 "nbformat_minor": 5
}
